{
 "cells": [
  {
   "cell_type": "code",
   "execution_count": 1,
   "id": "b810843d",
   "metadata": {},
   "outputs": [
    {
     "data": {
      "text/plain": [
       "'C:\\\\Spark\\\\spark-3.2.3-bin-hadoop2.7'"
      ]
     },
     "execution_count": 1,
     "metadata": {},
     "output_type": "execute_result"
    }
   ],
   "source": [
    "import findspark\n",
    "findspark.init()\n",
    "import pyspark\n",
    "findspark.find()"
   ]
  },
  {
   "cell_type": "code",
   "execution_count": 2,
   "id": "93b5f3b1",
   "metadata": {},
   "outputs": [],
   "source": [
    "from pyspark.sql import SparkSession\n",
    "from pyspark import SparkContext\n",
    "from pyspark.sql.functions import col, count, when, year, month, dayofmonth, to_timestamp, hour\n",
    "from pyspark.ml.feature import StringIndexer, VectorAssembler\n",
    "from pyspark.ml.clustering import KMeans\n",
    "from pyspark.ml.evaluation import ClusteringEvaluator"
   ]
  },
  {
   "cell_type": "code",
   "execution_count": 3,
   "id": "a84802ca",
   "metadata": {},
   "outputs": [],
   "source": [
    "# Read in dependencies\n",
    "from pyspark.ml.feature import VectorAssembler, StringIndexer, MinMaxScaler\n",
    "from pyspark.sql.types import * \n",
    "\n",
    "from pyspark.ml.classification import *\n",
    "from pyspark.ml.evaluation import *\n",
    "from pyspark.sql.functions import *\n",
    "from pyspark.ml.tuning import CrossValidator, ParamGridBuilder"
   ]
  },
  {
   "cell_type": "code",
   "execution_count": 4,
   "id": "e87b941e",
   "metadata": {},
   "outputs": [],
   "source": [
    "App_maker = SparkSession.builder.appName(\"Crime Analysis\").getOrCreate()\n"
   ]
  },
  {
   "cell_type": "code",
   "execution_count": 5,
   "id": "f75348bc",
   "metadata": {},
   "outputs": [
    {
     "name": "stdout",
     "output_type": "stream",
     "text": [
      "You are working with 1 core(s)\n"
     ]
    },
    {
     "data": {
      "text/html": [
       "\n",
       "            <div>\n",
       "                <p><b>SparkSession - in-memory</b></p>\n",
       "                \n",
       "        <div>\n",
       "            <p><b>SparkContext</b></p>\n",
       "\n",
       "            <p><a href=\"http://DESKTOP-4A137N3:4042\">Spark UI</a></p>\n",
       "\n",
       "            <dl>\n",
       "              <dt>Version</dt>\n",
       "                <dd><code>v3.2.3</code></dd>\n",
       "              <dt>Master</dt>\n",
       "                <dd><code>local[*]</code></dd>\n",
       "              <dt>AppName</dt>\n",
       "                <dd><code>Crime Analysis</code></dd>\n",
       "            </dl>\n",
       "        </div>\n",
       "        \n",
       "            </div>\n",
       "        "
      ],
      "text/plain": [
       "<pyspark.sql.session.SparkSession at 0x2a5c9cdda30>"
      ]
     },
     "execution_count": 5,
     "metadata": {},
     "output_type": "execute_result"
    }
   ],
   "source": [
    "cores = App_maker._jsc.sc().getExecutorMemoryStatus().keySet().size()\n",
    "print(\"You are working with\", cores, \"core(s)\")\n",
    "App_maker"
   ]
  },
  {
   "cell_type": "code",
   "execution_count": 6,
   "id": "d5155305",
   "metadata": {},
   "outputs": [
    {
     "data": {
      "text/plain": [
       "pyspark.sql.dataframe.DataFrame"
      ]
     },
     "execution_count": 6,
     "metadata": {},
     "output_type": "execute_result"
    }
   ],
   "source": [
    "Crime_DB = App_maker.read.csv('crime_in_la.csv',inferSchema=True,header=True)\n",
    "type(Crime_DB)"
   ]
  },
  {
   "cell_type": "code",
   "execution_count": 7,
   "id": "3b0c1cc9",
   "metadata": {},
   "outputs": [
    {
     "name": "stdout",
     "output_type": "stream",
     "text": [
      "+---------+----------+--------+----+-----------+-----------+------+--------------------+-------------------+--------+--------+------------+--------------------+--------------+--------------------+------+-----------+--------------------+-------+---------+\n",
      "|    DR_NO|  DATE OCC|TIME OCC|AREA|  AREA NAME|Rpt Dist No|Crm Cd|         Crm Cd Desc|            Mocodes|Vict Age|Vict Sex|Vict Descent|         Premis Desc|Weapon Used Cd|         Weapon Desc|Status|Status Desc|            LOCATION|    LAT|      LON|\n",
      "+---------+----------+--------+----+-----------+-----------+------+--------------------+-------------------+--------+--------+------------+--------------------+--------------+--------------------+------+-----------+--------------------+-------+---------+\n",
      "| 10304468|08/01/2020|   22:30|   3|  Southwest|        377|   624|BATTERY - SIMPLE ...|          0444 0913|      36|       F|           B|SINGLE FAMILY DWE...|         400.0|STRONG-ARM (HANDS...|    AO|Adult Other|1100 W  39TH     ...|34.0141|-118.2978|\n",
      "|190101086|01/01/2020|   03:30|   1|    Central|        163|   624|BATTERY - SIMPLE ...|     0416 1822 1414|      25|       M|           H|            SIDEWALK|         500.0|UNKNOWN WEAPON/OT...|    IC|Invest Cont|700 S  HILL      ...|34.0459|-118.2545|\n",
      "|191501505|01/01/2020|   17:30|  15|N Hollywood|       1543|   745|VANDALISM - MISDE...|          0329 1402|      76|       F|           W|MULTI-UNIT DWELLI...|         500.0|UNKNOWN WEAPON/OT...|    IC|Invest Cont|5400    CORTEEN  ...|34.1685|-118.4019|\n",
      "|191921269|01/01/2020|   04:15|  19|    Mission|       1998|   740|VANDALISM - FELON...|               0329|      31|       X|           X| BEAUTY SUPPLY STORE|         500.0|UNKNOWN WEAPON/OT...|    IC|Invest Cont|14400    TITUS   ...|34.2198|-118.4468|\n",
      "|200100501|01/01/2020|   00:30|   1|    Central|        163|   121|      RAPE, FORCIBLE|0413 1822 1262 1415|      25|       F|           H|NIGHT CLUB (OPEN ...|         500.0|UNKNOWN WEAPON/OT...|    IC|Invest Cont|     700 S  BROADWAY|34.0452|-118.2534|\n",
      "|200100502|02/01/2020|   13:15|   1|    Central|        161|   442|SHOPLIFTING - PET...|1402 2004 0344 0387|      23|       M|           H|    DEPARTMENT STORE|         500.0|UNKNOWN WEAPON/OT...|    IC|Invest Cont|700 S  FIGUEROA  ...|34.0483|-118.2631|\n",
      "+---------+----------+--------+----+-----------+-----------+------+--------------------+-------------------+--------+--------+------------+--------------------+--------------+--------------------+------+-----------+--------------------+-------+---------+\n",
      "\n"
     ]
    }
   ],
   "source": [
    "Crime_DB.limit(6).show()"
   ]
  },
  {
   "cell_type": "code",
   "execution_count": 8,
   "id": "ef6c3fc3",
   "metadata": {},
   "outputs": [
    {
     "data": {
      "text/html": [
       "<div>\n",
       "<style scoped>\n",
       "    .dataframe tbody tr th:only-of-type {\n",
       "        vertical-align: middle;\n",
       "    }\n",
       "\n",
       "    .dataframe tbody tr th {\n",
       "        vertical-align: top;\n",
       "    }\n",
       "\n",
       "    .dataframe thead th {\n",
       "        text-align: right;\n",
       "    }\n",
       "</style>\n",
       "<table border=\"1\" class=\"dataframe\">\n",
       "  <thead>\n",
       "    <tr style=\"text-align: right;\">\n",
       "      <th></th>\n",
       "      <th>DR_NO</th>\n",
       "      <th>DATE OCC</th>\n",
       "      <th>TIME OCC</th>\n",
       "      <th>AREA</th>\n",
       "      <th>AREA NAME</th>\n",
       "      <th>Rpt Dist No</th>\n",
       "      <th>Crm Cd</th>\n",
       "      <th>Crm Cd Desc</th>\n",
       "      <th>Mocodes</th>\n",
       "      <th>Vict Age</th>\n",
       "      <th>Vict Sex</th>\n",
       "      <th>Vict Descent</th>\n",
       "      <th>Premis Desc</th>\n",
       "      <th>Weapon Used Cd</th>\n",
       "      <th>Weapon Desc</th>\n",
       "      <th>Status</th>\n",
       "      <th>Status Desc</th>\n",
       "      <th>LOCATION</th>\n",
       "      <th>LAT</th>\n",
       "      <th>LON</th>\n",
       "    </tr>\n",
       "  </thead>\n",
       "  <tbody>\n",
       "    <tr>\n",
       "      <th>0</th>\n",
       "      <td>10304468</td>\n",
       "      <td>08/01/2020</td>\n",
       "      <td>22:30</td>\n",
       "      <td>3</td>\n",
       "      <td>Southwest</td>\n",
       "      <td>377</td>\n",
       "      <td>624</td>\n",
       "      <td>BATTERY - SIMPLE ASSAULT</td>\n",
       "      <td>0444 0913</td>\n",
       "      <td>36</td>\n",
       "      <td>F</td>\n",
       "      <td>B</td>\n",
       "      <td>SINGLE FAMILY DWELLING</td>\n",
       "      <td>400.0</td>\n",
       "      <td>STRONG-ARM (HANDS, FIST, FEET OR BODILY FORCE)</td>\n",
       "      <td>AO</td>\n",
       "      <td>Adult Other</td>\n",
       "      <td>1100 W  39TH                         PL</td>\n",
       "      <td>34.0141</td>\n",
       "      <td>-118.2978</td>\n",
       "    </tr>\n",
       "    <tr>\n",
       "      <th>1</th>\n",
       "      <td>190101086</td>\n",
       "      <td>01/01/2020</td>\n",
       "      <td>03:30</td>\n",
       "      <td>1</td>\n",
       "      <td>Central</td>\n",
       "      <td>163</td>\n",
       "      <td>624</td>\n",
       "      <td>BATTERY - SIMPLE ASSAULT</td>\n",
       "      <td>0416 1822 1414</td>\n",
       "      <td>25</td>\n",
       "      <td>M</td>\n",
       "      <td>H</td>\n",
       "      <td>SIDEWALK</td>\n",
       "      <td>500.0</td>\n",
       "      <td>UNKNOWN WEAPON/OTHER WEAPON</td>\n",
       "      <td>IC</td>\n",
       "      <td>Invest Cont</td>\n",
       "      <td>700 S  HILL                         ST</td>\n",
       "      <td>34.0459</td>\n",
       "      <td>-118.2545</td>\n",
       "    </tr>\n",
       "    <tr>\n",
       "      <th>2</th>\n",
       "      <td>191501505</td>\n",
       "      <td>01/01/2020</td>\n",
       "      <td>17:30</td>\n",
       "      <td>15</td>\n",
       "      <td>N Hollywood</td>\n",
       "      <td>1543</td>\n",
       "      <td>745</td>\n",
       "      <td>VANDALISM - MISDEAMEANOR ($399 OR UNDER)</td>\n",
       "      <td>0329 1402</td>\n",
       "      <td>76</td>\n",
       "      <td>F</td>\n",
       "      <td>W</td>\n",
       "      <td>MULTI-UNIT DWELLING (APARTMENT, DUPLEX, ETC)</td>\n",
       "      <td>500.0</td>\n",
       "      <td>UNKNOWN WEAPON/OTHER WEAPON</td>\n",
       "      <td>IC</td>\n",
       "      <td>Invest Cont</td>\n",
       "      <td>5400    CORTEEN                      PL</td>\n",
       "      <td>34.1685</td>\n",
       "      <td>-118.4019</td>\n",
       "    </tr>\n",
       "    <tr>\n",
       "      <th>3</th>\n",
       "      <td>191921269</td>\n",
       "      <td>01/01/2020</td>\n",
       "      <td>04:15</td>\n",
       "      <td>19</td>\n",
       "      <td>Mission</td>\n",
       "      <td>1998</td>\n",
       "      <td>740</td>\n",
       "      <td>VANDALISM - FELONY ($400 &amp; OVER, ALL CHURCH VA...</td>\n",
       "      <td>0329</td>\n",
       "      <td>31</td>\n",
       "      <td>X</td>\n",
       "      <td>X</td>\n",
       "      <td>BEAUTY SUPPLY STORE</td>\n",
       "      <td>500.0</td>\n",
       "      <td>UNKNOWN WEAPON/OTHER WEAPON</td>\n",
       "      <td>IC</td>\n",
       "      <td>Invest Cont</td>\n",
       "      <td>14400    TITUS                        ST</td>\n",
       "      <td>34.2198</td>\n",
       "      <td>-118.4468</td>\n",
       "    </tr>\n",
       "    <tr>\n",
       "      <th>4</th>\n",
       "      <td>200100501</td>\n",
       "      <td>01/01/2020</td>\n",
       "      <td>00:30</td>\n",
       "      <td>1</td>\n",
       "      <td>Central</td>\n",
       "      <td>163</td>\n",
       "      <td>121</td>\n",
       "      <td>RAPE, FORCIBLE</td>\n",
       "      <td>0413 1822 1262 1415</td>\n",
       "      <td>25</td>\n",
       "      <td>F</td>\n",
       "      <td>H</td>\n",
       "      <td>NIGHT CLUB (OPEN EVENINGS ONLY)</td>\n",
       "      <td>500.0</td>\n",
       "      <td>UNKNOWN WEAPON/OTHER WEAPON</td>\n",
       "      <td>IC</td>\n",
       "      <td>Invest Cont</td>\n",
       "      <td>700 S  BROADWAY</td>\n",
       "      <td>34.0452</td>\n",
       "      <td>-118.2534</td>\n",
       "    </tr>\n",
       "    <tr>\n",
       "      <th>5</th>\n",
       "      <td>200100502</td>\n",
       "      <td>02/01/2020</td>\n",
       "      <td>13:15</td>\n",
       "      <td>1</td>\n",
       "      <td>Central</td>\n",
       "      <td>161</td>\n",
       "      <td>442</td>\n",
       "      <td>SHOPLIFTING - PETTY THEFT ($950 &amp; UNDER)</td>\n",
       "      <td>1402 2004 0344 0387</td>\n",
       "      <td>23</td>\n",
       "      <td>M</td>\n",
       "      <td>H</td>\n",
       "      <td>DEPARTMENT STORE</td>\n",
       "      <td>500.0</td>\n",
       "      <td>UNKNOWN WEAPON/OTHER WEAPON</td>\n",
       "      <td>IC</td>\n",
       "      <td>Invest Cont</td>\n",
       "      <td>700 S  FIGUEROA                     ST</td>\n",
       "      <td>34.0483</td>\n",
       "      <td>-118.2631</td>\n",
       "    </tr>\n",
       "  </tbody>\n",
       "</table>\n",
       "</div>"
      ],
      "text/plain": [
       "       DR_NO    DATE OCC TIME OCC  AREA    AREA NAME  Rpt Dist No  Crm Cd  \\\n",
       "0   10304468  08/01/2020    22:30     3    Southwest          377     624   \n",
       "1  190101086  01/01/2020    03:30     1      Central          163     624   \n",
       "2  191501505  01/01/2020    17:30    15  N Hollywood         1543     745   \n",
       "3  191921269  01/01/2020    04:15    19      Mission         1998     740   \n",
       "4  200100501  01/01/2020    00:30     1      Central          163     121   \n",
       "5  200100502  02/01/2020    13:15     1      Central          161     442   \n",
       "\n",
       "                                         Crm Cd Desc              Mocodes  \\\n",
       "0                           BATTERY - SIMPLE ASSAULT            0444 0913   \n",
       "1                           BATTERY - SIMPLE ASSAULT       0416 1822 1414   \n",
       "2           VANDALISM - MISDEAMEANOR ($399 OR UNDER)            0329 1402   \n",
       "3  VANDALISM - FELONY ($400 & OVER, ALL CHURCH VA...                 0329   \n",
       "4                                     RAPE, FORCIBLE  0413 1822 1262 1415   \n",
       "5           SHOPLIFTING - PETTY THEFT ($950 & UNDER)  1402 2004 0344 0387   \n",
       "\n",
       "   Vict Age Vict Sex Vict Descent  \\\n",
       "0        36        F            B   \n",
       "1        25        M            H   \n",
       "2        76        F            W   \n",
       "3        31        X            X   \n",
       "4        25        F            H   \n",
       "5        23        M            H   \n",
       "\n",
       "                                    Premis Desc  Weapon Used Cd  \\\n",
       "0                        SINGLE FAMILY DWELLING           400.0   \n",
       "1                                      SIDEWALK           500.0   \n",
       "2  MULTI-UNIT DWELLING (APARTMENT, DUPLEX, ETC)           500.0   \n",
       "3                           BEAUTY SUPPLY STORE           500.0   \n",
       "4               NIGHT CLUB (OPEN EVENINGS ONLY)           500.0   \n",
       "5                              DEPARTMENT STORE           500.0   \n",
       "\n",
       "                                      Weapon Desc Status  Status Desc  \\\n",
       "0  STRONG-ARM (HANDS, FIST, FEET OR BODILY FORCE)     AO  Adult Other   \n",
       "1                     UNKNOWN WEAPON/OTHER WEAPON     IC  Invest Cont   \n",
       "2                     UNKNOWN WEAPON/OTHER WEAPON     IC  Invest Cont   \n",
       "3                     UNKNOWN WEAPON/OTHER WEAPON     IC  Invest Cont   \n",
       "4                     UNKNOWN WEAPON/OTHER WEAPON     IC  Invest Cont   \n",
       "5                     UNKNOWN WEAPON/OTHER WEAPON     IC  Invest Cont   \n",
       "\n",
       "                                   LOCATION      LAT       LON  \n",
       "0   1100 W  39TH                         PL  34.0141 -118.2978  \n",
       "1    700 S  HILL                         ST  34.0459 -118.2545  \n",
       "2   5400    CORTEEN                      PL  34.1685 -118.4019  \n",
       "3  14400    TITUS                        ST  34.2198 -118.4468  \n",
       "4                           700 S  BROADWAY  34.0452 -118.2534  \n",
       "5    700 S  FIGUEROA                     ST  34.0483 -118.2631  "
      ]
     },
     "execution_count": 8,
     "metadata": {},
     "output_type": "execute_result"
    }
   ],
   "source": [
    "Crime_DB.limit(6).toPandas() # since representation in jupiter is looking shabby, i decided to use the pandas library within"
   ]
  },
  {
   "cell_type": "code",
   "execution_count": 9,
   "id": "d7036262",
   "metadata": {},
   "outputs": [
    {
     "name": "stdout",
     "output_type": "stream",
     "text": [
      "(495410, 20)\n"
     ]
    }
   ],
   "source": [
    "# Number of rows\n",
    "num_rows = Crime_DB.count()\n",
    "\n",
    "# Number of columns\n",
    "num_columns = len(Crime_DB.columns)\n",
    "\n",
    "# Print the shape as a tuple (rows, columns)\n",
    "print((num_rows, num_columns))"
   ]
  },
  {
   "cell_type": "code",
   "execution_count": 10,
   "id": "d868d0bb",
   "metadata": {},
   "outputs": [
    {
     "name": "stdout",
     "output_type": "stream",
     "text": [
      "root\n",
      " |-- DR_NO: integer (nullable = true)\n",
      " |-- DATE OCC: string (nullable = true)\n",
      " |-- TIME OCC: string (nullable = true)\n",
      " |-- AREA: integer (nullable = true)\n",
      " |-- AREA NAME: string (nullable = true)\n",
      " |-- Rpt Dist No: integer (nullable = true)\n",
      " |-- Crm Cd: integer (nullable = true)\n",
      " |-- Crm Cd Desc: string (nullable = true)\n",
      " |-- Mocodes: string (nullable = true)\n",
      " |-- Vict Age: integer (nullable = true)\n",
      " |-- Vict Sex: string (nullable = true)\n",
      " |-- Vict Descent: string (nullable = true)\n",
      " |-- Premis Desc: string (nullable = true)\n",
      " |-- Weapon Used Cd: double (nullable = true)\n",
      " |-- Weapon Desc: string (nullable = true)\n",
      " |-- Status: string (nullable = true)\n",
      " |-- Status Desc: string (nullable = true)\n",
      " |-- LOCATION: string (nullable = true)\n",
      " |-- LAT: double (nullable = true)\n",
      " |-- LON: double (nullable = true)\n",
      "\n"
     ]
    }
   ],
   "source": [
    "Crime_DB.printSchema()"
   ]
  },
  {
   "cell_type": "code",
   "execution_count": 11,
   "id": "55465196",
   "metadata": {},
   "outputs": [
    {
     "data": {
      "text/html": [
       "<div>\n",
       "<style scoped>\n",
       "    .dataframe tbody tr th:only-of-type {\n",
       "        vertical-align: middle;\n",
       "    }\n",
       "\n",
       "    .dataframe tbody tr th {\n",
       "        vertical-align: top;\n",
       "    }\n",
       "\n",
       "    .dataframe thead th {\n",
       "        text-align: right;\n",
       "    }\n",
       "</style>\n",
       "<table border=\"1\" class=\"dataframe\">\n",
       "  <thead>\n",
       "    <tr style=\"text-align: right;\">\n",
       "      <th></th>\n",
       "      <th>summary</th>\n",
       "      <th>DR_NO</th>\n",
       "      <th>DATE OCC</th>\n",
       "      <th>TIME OCC</th>\n",
       "      <th>AREA</th>\n",
       "      <th>AREA NAME</th>\n",
       "      <th>Rpt Dist No</th>\n",
       "      <th>Crm Cd</th>\n",
       "      <th>Crm Cd Desc</th>\n",
       "      <th>Mocodes</th>\n",
       "      <th>...</th>\n",
       "      <th>Vict Sex</th>\n",
       "      <th>Vict Descent</th>\n",
       "      <th>Premis Desc</th>\n",
       "      <th>Weapon Used Cd</th>\n",
       "      <th>Weapon Desc</th>\n",
       "      <th>Status</th>\n",
       "      <th>Status Desc</th>\n",
       "      <th>LOCATION</th>\n",
       "      <th>LAT</th>\n",
       "      <th>LON</th>\n",
       "    </tr>\n",
       "  </thead>\n",
       "  <tbody>\n",
       "    <tr>\n",
       "      <th>0</th>\n",
       "      <td>count</td>\n",
       "      <td>495410</td>\n",
       "      <td>495410</td>\n",
       "      <td>495410</td>\n",
       "      <td>495410</td>\n",
       "      <td>495410</td>\n",
       "      <td>495410</td>\n",
       "      <td>495410</td>\n",
       "      <td>495410</td>\n",
       "      <td>495410</td>\n",
       "      <td>...</td>\n",
       "      <td>495410</td>\n",
       "      <td>495410</td>\n",
       "      <td>495197</td>\n",
       "      <td>495410</td>\n",
       "      <td>495410</td>\n",
       "      <td>495410</td>\n",
       "      <td>495410</td>\n",
       "      <td>495410</td>\n",
       "      <td>495410</td>\n",
       "      <td>495410</td>\n",
       "    </tr>\n",
       "    <tr>\n",
       "      <th>1</th>\n",
       "      <td>mean</td>\n",
       "      <td>2.0914652751808804E8</td>\n",
       "      <td>None</td>\n",
       "      <td>None</td>\n",
       "      <td>10.768563412123292</td>\n",
       "      <td>None</td>\n",
       "      <td>1123.1374296037625</td>\n",
       "      <td>504.6749661896207</td>\n",
       "      <td>None</td>\n",
       "      <td>336.21128368453964</td>\n",
       "      <td>...</td>\n",
       "      <td>None</td>\n",
       "      <td>None</td>\n",
       "      <td>None</td>\n",
       "      <td>450.56462525988576</td>\n",
       "      <td>None</td>\n",
       "      <td>None</td>\n",
       "      <td>None</td>\n",
       "      <td>10.0</td>\n",
       "      <td>33.917113663227525</td>\n",
       "      <td>-117.81127728023286</td>\n",
       "    </tr>\n",
       "    <tr>\n",
       "      <th>2</th>\n",
       "      <td>stddev</td>\n",
       "      <td>7395200.17626745</td>\n",
       "      <td>None</td>\n",
       "      <td>None</td>\n",
       "      <td>6.068705496455603</td>\n",
       "      <td>None</td>\n",
       "      <td>606.946832394658</td>\n",
       "      <td>209.15906196742276</td>\n",
       "      <td>None</td>\n",
       "      <td>553.2213722458159</td>\n",
       "      <td>...</td>\n",
       "      <td>None</td>\n",
       "      <td>None</td>\n",
       "      <td>None</td>\n",
       "      <td>99.54303567290512</td>\n",
       "      <td>None</td>\n",
       "      <td>None</td>\n",
       "      <td>None</td>\n",
       "      <td>None</td>\n",
       "      <td>2.305901851064038</td>\n",
       "      <td>8.000843601228736</td>\n",
       "    </tr>\n",
       "    <tr>\n",
       "      <th>3</th>\n",
       "      <td>min</td>\n",
       "      <td>817</td>\n",
       "      <td>01/01/2020</td>\n",
       "      <td>00:01</td>\n",
       "      <td>1</td>\n",
       "      <td>77th Street</td>\n",
       "      <td>101</td>\n",
       "      <td>110</td>\n",
       "      <td>ARSON</td>\n",
       "      <td>0</td>\n",
       "      <td>...</td>\n",
       "      <td>F</td>\n",
       "      <td>A</td>\n",
       "      <td>7TH AND METRO CENTER (NOT LINE SPECIFIC)</td>\n",
       "      <td>101.0</td>\n",
       "      <td>AIR PISTOL/REVOLVER/RIFLE/BB GUN</td>\n",
       "      <td>AA</td>\n",
       "      <td>Adult Arrest</td>\n",
       "      <td>00    17TH                         AV</td>\n",
       "      <td>0.0</td>\n",
       "      <td>-118.6676</td>\n",
       "    </tr>\n",
       "    <tr>\n",
       "      <th>4</th>\n",
       "      <td>max</td>\n",
       "      <td>229910450</td>\n",
       "      <td>31/12/2021</td>\n",
       "      <td>23:59</td>\n",
       "      <td>21</td>\n",
       "      <td>Wilshire</td>\n",
       "      <td>2199</td>\n",
       "      <td>956</td>\n",
       "      <td>WEAPONS POSSESSION/BOMBING</td>\n",
       "      <td>9999 2004</td>\n",
       "      <td>...</td>\n",
       "      <td>X</td>\n",
       "      <td>Z</td>\n",
       "      <td>YARD (RESIDENTIAL/BUSINESS)</td>\n",
       "      <td>516.0</td>\n",
       "      <td>VERBAL THREAT</td>\n",
       "      <td>JO</td>\n",
       "      <td>Juv Other</td>\n",
       "      <td>ZOO                          DR</td>\n",
       "      <td>34.3343</td>\n",
       "      <td>0.0</td>\n",
       "    </tr>\n",
       "  </tbody>\n",
       "</table>\n",
       "<p>5 rows × 21 columns</p>\n",
       "</div>"
      ],
      "text/plain": [
       "  summary                 DR_NO    DATE OCC TIME OCC                AREA  \\\n",
       "0   count                495410      495410   495410              495410   \n",
       "1    mean  2.0914652751808804E8        None     None  10.768563412123292   \n",
       "2  stddev      7395200.17626745        None     None   6.068705496455603   \n",
       "3     min                   817  01/01/2020    00:01                   1   \n",
       "4     max             229910450  31/12/2021    23:59                  21   \n",
       "\n",
       "     AREA NAME         Rpt Dist No              Crm Cd  \\\n",
       "0       495410              495410              495410   \n",
       "1         None  1123.1374296037625   504.6749661896207   \n",
       "2         None    606.946832394658  209.15906196742276   \n",
       "3  77th Street                 101                 110   \n",
       "4     Wilshire                2199                 956   \n",
       "\n",
       "                  Crm Cd Desc             Mocodes  ... Vict Sex Vict Descent  \\\n",
       "0                      495410              495410  ...   495410       495410   \n",
       "1                        None  336.21128368453964  ...     None         None   \n",
       "2                        None   553.2213722458159  ...     None         None   \n",
       "3                       ARSON                   0  ...        F            A   \n",
       "4  WEAPONS POSSESSION/BOMBING           9999 2004  ...        X            Z   \n",
       "\n",
       "                                Premis Desc      Weapon Used Cd  \\\n",
       "0                                    495197              495410   \n",
       "1                                      None  450.56462525988576   \n",
       "2                                      None   99.54303567290512   \n",
       "3  7TH AND METRO CENTER (NOT LINE SPECIFIC)               101.0   \n",
       "4               YARD (RESIDENTIAL/BUSINESS)               516.0   \n",
       "\n",
       "                        Weapon Desc  Status   Status Desc  \\\n",
       "0                            495410  495410        495410   \n",
       "1                              None    None          None   \n",
       "2                              None    None          None   \n",
       "3  AIR PISTOL/REVOLVER/RIFLE/BB GUN      AA  Adult Arrest   \n",
       "4                     VERBAL THREAT      JO     Juv Other   \n",
       "\n",
       "                                LOCATION                 LAT  \\\n",
       "0                                 495410              495410   \n",
       "1                                   10.0  33.917113663227525   \n",
       "2                                   None   2.305901851064038   \n",
       "3  00    17TH                         AV                 0.0   \n",
       "4        ZOO                          DR             34.3343   \n",
       "\n",
       "                   LON  \n",
       "0               495410  \n",
       "1  -117.81127728023286  \n",
       "2    8.000843601228736  \n",
       "3            -118.6676  \n",
       "4                  0.0  \n",
       "\n",
       "[5 rows x 21 columns]"
      ]
     },
     "execution_count": 11,
     "metadata": {},
     "output_type": "execute_result"
    }
   ],
   "source": [
    "Crime_DB.describe().toPandas()"
   ]
  },
  {
   "cell_type": "markdown",
   "id": "16e6e8cb",
   "metadata": {},
   "source": [
    "### Data Preprocessing"
   ]
  },
  {
   "cell_type": "code",
   "execution_count": 12,
   "id": "22cbd2a9",
   "metadata": {},
   "outputs": [
    {
     "name": "stdout",
     "output_type": "stream",
     "text": [
      "Original row count: 495410\n",
      "New row count: 495410\n",
      "Duplicate rows: 0\n"
     ]
    }
   ],
   "source": [
    "# check for duplicates using the add and subtract method\n",
    "\n",
    "# Original row count\n",
    "original_row_count = Crime_DB.count()\n",
    "\n",
    "# Drop duplicates\n",
    "data_no_duplicates = Crime_DB.dropDuplicates()\n",
    "\n",
    "# Row count after dropping duplicates\n",
    "new_row_count = data_no_duplicates.count()\n",
    "\n",
    "# Calculate the number of duplicate rows\n",
    "duplicate_rows = original_row_count - new_row_count\n",
    "\n",
    "print(f\"Original row count: {original_row_count}\")\n",
    "print(f\"New row count: {new_row_count}\")\n",
    "print(f\"Duplicate rows: {duplicate_rows}\")\n"
   ]
  },
  {
   "cell_type": "code",
   "execution_count": 13,
   "id": "12675b91",
   "metadata": {},
   "outputs": [
    {
     "data": {
      "text/html": [
       "<div>\n",
       "<style scoped>\n",
       "    .dataframe tbody tr th:only-of-type {\n",
       "        vertical-align: middle;\n",
       "    }\n",
       "\n",
       "    .dataframe tbody tr th {\n",
       "        vertical-align: top;\n",
       "    }\n",
       "\n",
       "    .dataframe thead th {\n",
       "        text-align: right;\n",
       "    }\n",
       "</style>\n",
       "<table border=\"1\" class=\"dataframe\">\n",
       "  <thead>\n",
       "    <tr style=\"text-align: right;\">\n",
       "      <th></th>\n",
       "      <th>DR_NO</th>\n",
       "      <th>DATE OCC</th>\n",
       "      <th>TIME OCC</th>\n",
       "      <th>AREA</th>\n",
       "      <th>AREA NAME</th>\n",
       "      <th>Rpt Dist No</th>\n",
       "      <th>Crm Cd</th>\n",
       "      <th>Crm Cd Desc</th>\n",
       "      <th>Mocodes</th>\n",
       "      <th>Vict Age</th>\n",
       "      <th>Vict Sex</th>\n",
       "      <th>Vict Descent</th>\n",
       "      <th>Premis Desc</th>\n",
       "      <th>Weapon Used Cd</th>\n",
       "      <th>Weapon Desc</th>\n",
       "      <th>Status</th>\n",
       "      <th>Status Desc</th>\n",
       "      <th>LOCATION</th>\n",
       "      <th>LAT</th>\n",
       "      <th>LON</th>\n",
       "    </tr>\n",
       "  </thead>\n",
       "  <tbody>\n",
       "    <tr>\n",
       "      <th>0</th>\n",
       "      <td>0</td>\n",
       "      <td>0</td>\n",
       "      <td>0</td>\n",
       "      <td>0</td>\n",
       "      <td>0</td>\n",
       "      <td>0</td>\n",
       "      <td>0</td>\n",
       "      <td>0</td>\n",
       "      <td>0</td>\n",
       "      <td>0</td>\n",
       "      <td>0</td>\n",
       "      <td>0</td>\n",
       "      <td>213</td>\n",
       "      <td>0</td>\n",
       "      <td>0</td>\n",
       "      <td>0</td>\n",
       "      <td>0</td>\n",
       "      <td>0</td>\n",
       "      <td>0</td>\n",
       "      <td>0</td>\n",
       "    </tr>\n",
       "  </tbody>\n",
       "</table>\n",
       "</div>"
      ],
      "text/plain": [
       "   DR_NO  DATE OCC  TIME OCC  AREA  AREA NAME  Rpt Dist No  Crm Cd  \\\n",
       "0      0         0         0     0          0            0       0   \n",
       "\n",
       "   Crm Cd Desc  Mocodes  Vict Age  Vict Sex  Vict Descent  Premis Desc  \\\n",
       "0            0        0         0         0             0          213   \n",
       "\n",
       "   Weapon Used Cd  Weapon Desc  Status  Status Desc  LOCATION  LAT  LON  \n",
       "0               0            0       0            0         0    0    0  "
      ]
     },
     "execution_count": 13,
     "metadata": {},
     "output_type": "execute_result"
    }
   ],
   "source": [
    "# Calculate the number of missing values for each column\n",
    "missing_values = Crime_DB.select([count(when(col(c).isNull(), c)).alias(c) for c in Crime_DB.columns])\n",
    "\n",
    "# Show the results\n",
    "missing_values.toPandas()\n"
   ]
  },
  {
   "cell_type": "code",
   "execution_count": 14,
   "id": "4f64023d",
   "metadata": {},
   "outputs": [],
   "source": [
    "# Replace 'column_name' with the actual name of the string column to be transformed in the code\n",
    "column_name = \"Premis Desc\"\n",
    "\n",
    "New_CDB = Crime_DB.withColumn(column_name, when(col(column_name).isNull(), \"Unknown\").otherwise(col(column_name)))"
   ]
  },
  {
   "cell_type": "code",
   "execution_count": 15,
   "id": "21bf0696",
   "metadata": {},
   "outputs": [
    {
     "name": "stdout",
     "output_type": "stream",
     "text": [
      "{}\n"
     ]
    }
   ],
   "source": [
    "# check if application worked\n",
    "missing_values = New_CDB.select([count(when(col(c).isNull(), c)).alias(c) for c in New_CDB.columns])\n",
    "missing_values_dict = missing_values.collect()[0].asDict()\n",
    "\n",
    "columns_with_missing_values = {k: v for k, v in missing_values_dict.items() if v > 0}\n",
    "print(columns_with_missing_values)"
   ]
  },
  {
   "cell_type": "code",
   "execution_count": 16,
   "id": "6aa9025e",
   "metadata": {},
   "outputs": [],
   "source": [
    "# date and time columns are represented as strings, thus, we should extract and transform into date-time stamps\n",
    "from pyspark.sql.functions import unix_timestamp\n",
    "\n",
    "CDBase1 = New_CDB.withColumn(\"datetime_occ_str\", concat_ws(\" \", \"DATE OCC\", \"TIME OCC\"))\n",
    "CDBase2 = CDBase1.withColumn(\"datetime_occ\", to_timestamp(\"datetime_occ_str\", \"dd/MM/yyyy HH:mm\"))\n",
    "\n",
    "CDBase = CDBase2.drop(\"DATE OCC\", \"TIME OCC\")"
   ]
  },
  {
   "cell_type": "code",
   "execution_count": 29,
   "id": "f689d5d7",
   "metadata": {},
   "outputs": [
    {
     "data": {
      "text/html": [
       "<div>\n",
       "<style scoped>\n",
       "    .dataframe tbody tr th:only-of-type {\n",
       "        vertical-align: middle;\n",
       "    }\n",
       "\n",
       "    .dataframe tbody tr th {\n",
       "        vertical-align: top;\n",
       "    }\n",
       "\n",
       "    .dataframe thead th {\n",
       "        text-align: right;\n",
       "    }\n",
       "</style>\n",
       "<table border=\"1\" class=\"dataframe\">\n",
       "  <thead>\n",
       "    <tr style=\"text-align: right;\">\n",
       "      <th></th>\n",
       "      <th>DR_NO</th>\n",
       "      <th>DATE OCC</th>\n",
       "      <th>TIME OCC</th>\n",
       "      <th>AREA</th>\n",
       "      <th>AREA NAME</th>\n",
       "      <th>Rpt Dist No</th>\n",
       "      <th>Crm Cd</th>\n",
       "      <th>Crm Cd Desc</th>\n",
       "      <th>Mocodes</th>\n",
       "      <th>Vict Age</th>\n",
       "      <th>...</th>\n",
       "      <th>Premis Desc</th>\n",
       "      <th>Weapon Used Cd</th>\n",
       "      <th>Weapon Desc</th>\n",
       "      <th>Status</th>\n",
       "      <th>Status Desc</th>\n",
       "      <th>LOCATION</th>\n",
       "      <th>LAT</th>\n",
       "      <th>LON</th>\n",
       "      <th>datetime_occ_str</th>\n",
       "      <th>datetime_occ</th>\n",
       "    </tr>\n",
       "  </thead>\n",
       "  <tbody>\n",
       "    <tr>\n",
       "      <th>0</th>\n",
       "      <td>10304468</td>\n",
       "      <td>08/01/2020</td>\n",
       "      <td>22:30</td>\n",
       "      <td>3</td>\n",
       "      <td>Southwest</td>\n",
       "      <td>377</td>\n",
       "      <td>624</td>\n",
       "      <td>BATTERY - SIMPLE ASSAULT</td>\n",
       "      <td>0444 0913</td>\n",
       "      <td>36</td>\n",
       "      <td>...</td>\n",
       "      <td>SINGLE FAMILY DWELLING</td>\n",
       "      <td>400.0</td>\n",
       "      <td>STRONG-ARM (HANDS, FIST, FEET OR BODILY FORCE)</td>\n",
       "      <td>AO</td>\n",
       "      <td>Adult Other</td>\n",
       "      <td>1100 W  39TH                         PL</td>\n",
       "      <td>34.0141</td>\n",
       "      <td>-118.2978</td>\n",
       "      <td>08/01/2020 22:30</td>\n",
       "      <td>2020-01-08 22:30:00</td>\n",
       "    </tr>\n",
       "    <tr>\n",
       "      <th>1</th>\n",
       "      <td>190101086</td>\n",
       "      <td>01/01/2020</td>\n",
       "      <td>03:30</td>\n",
       "      <td>1</td>\n",
       "      <td>Central</td>\n",
       "      <td>163</td>\n",
       "      <td>624</td>\n",
       "      <td>BATTERY - SIMPLE ASSAULT</td>\n",
       "      <td>0416 1822 1414</td>\n",
       "      <td>25</td>\n",
       "      <td>...</td>\n",
       "      <td>SIDEWALK</td>\n",
       "      <td>500.0</td>\n",
       "      <td>UNKNOWN WEAPON/OTHER WEAPON</td>\n",
       "      <td>IC</td>\n",
       "      <td>Invest Cont</td>\n",
       "      <td>700 S  HILL                         ST</td>\n",
       "      <td>34.0459</td>\n",
       "      <td>-118.2545</td>\n",
       "      <td>01/01/2020 03:30</td>\n",
       "      <td>2020-01-01 03:30:00</td>\n",
       "    </tr>\n",
       "    <tr>\n",
       "      <th>2</th>\n",
       "      <td>191501505</td>\n",
       "      <td>01/01/2020</td>\n",
       "      <td>17:30</td>\n",
       "      <td>15</td>\n",
       "      <td>N Hollywood</td>\n",
       "      <td>1543</td>\n",
       "      <td>745</td>\n",
       "      <td>VANDALISM - MISDEAMEANOR ($399 OR UNDER)</td>\n",
       "      <td>0329 1402</td>\n",
       "      <td>76</td>\n",
       "      <td>...</td>\n",
       "      <td>MULTI-UNIT DWELLING (APARTMENT, DUPLEX, ETC)</td>\n",
       "      <td>500.0</td>\n",
       "      <td>UNKNOWN WEAPON/OTHER WEAPON</td>\n",
       "      <td>IC</td>\n",
       "      <td>Invest Cont</td>\n",
       "      <td>5400    CORTEEN                      PL</td>\n",
       "      <td>34.1685</td>\n",
       "      <td>-118.4019</td>\n",
       "      <td>01/01/2020 17:30</td>\n",
       "      <td>2020-01-01 17:30:00</td>\n",
       "    </tr>\n",
       "    <tr>\n",
       "      <th>3</th>\n",
       "      <td>191921269</td>\n",
       "      <td>01/01/2020</td>\n",
       "      <td>04:15</td>\n",
       "      <td>19</td>\n",
       "      <td>Mission</td>\n",
       "      <td>1998</td>\n",
       "      <td>740</td>\n",
       "      <td>VANDALISM - FELONY ($400 &amp; OVER, ALL CHURCH VA...</td>\n",
       "      <td>0329</td>\n",
       "      <td>31</td>\n",
       "      <td>...</td>\n",
       "      <td>BEAUTY SUPPLY STORE</td>\n",
       "      <td>500.0</td>\n",
       "      <td>UNKNOWN WEAPON/OTHER WEAPON</td>\n",
       "      <td>IC</td>\n",
       "      <td>Invest Cont</td>\n",
       "      <td>14400    TITUS                        ST</td>\n",
       "      <td>34.2198</td>\n",
       "      <td>-118.4468</td>\n",
       "      <td>01/01/2020 04:15</td>\n",
       "      <td>2020-01-01 04:15:00</td>\n",
       "    </tr>\n",
       "    <tr>\n",
       "      <th>4</th>\n",
       "      <td>200100501</td>\n",
       "      <td>01/01/2020</td>\n",
       "      <td>00:30</td>\n",
       "      <td>1</td>\n",
       "      <td>Central</td>\n",
       "      <td>163</td>\n",
       "      <td>121</td>\n",
       "      <td>RAPE, FORCIBLE</td>\n",
       "      <td>0413 1822 1262 1415</td>\n",
       "      <td>25</td>\n",
       "      <td>...</td>\n",
       "      <td>NIGHT CLUB (OPEN EVENINGS ONLY)</td>\n",
       "      <td>500.0</td>\n",
       "      <td>UNKNOWN WEAPON/OTHER WEAPON</td>\n",
       "      <td>IC</td>\n",
       "      <td>Invest Cont</td>\n",
       "      <td>700 S  BROADWAY</td>\n",
       "      <td>34.0452</td>\n",
       "      <td>-118.2534</td>\n",
       "      <td>01/01/2020 00:30</td>\n",
       "      <td>2020-01-01 00:30:00</td>\n",
       "    </tr>\n",
       "  </tbody>\n",
       "</table>\n",
       "<p>5 rows × 22 columns</p>\n",
       "</div>"
      ],
      "text/plain": [
       "       DR_NO    DATE OCC TIME OCC  AREA    AREA NAME  Rpt Dist No  Crm Cd  \\\n",
       "0   10304468  08/01/2020    22:30     3    Southwest          377     624   \n",
       "1  190101086  01/01/2020    03:30     1      Central          163     624   \n",
       "2  191501505  01/01/2020    17:30    15  N Hollywood         1543     745   \n",
       "3  191921269  01/01/2020    04:15    19      Mission         1998     740   \n",
       "4  200100501  01/01/2020    00:30     1      Central          163     121   \n",
       "\n",
       "                                         Crm Cd Desc              Mocodes  \\\n",
       "0                           BATTERY - SIMPLE ASSAULT            0444 0913   \n",
       "1                           BATTERY - SIMPLE ASSAULT       0416 1822 1414   \n",
       "2           VANDALISM - MISDEAMEANOR ($399 OR UNDER)            0329 1402   \n",
       "3  VANDALISM - FELONY ($400 & OVER, ALL CHURCH VA...                 0329   \n",
       "4                                     RAPE, FORCIBLE  0413 1822 1262 1415   \n",
       "\n",
       "   Vict Age  ...                                   Premis Desc Weapon Used Cd  \\\n",
       "0        36  ...                        SINGLE FAMILY DWELLING          400.0   \n",
       "1        25  ...                                      SIDEWALK          500.0   \n",
       "2        76  ...  MULTI-UNIT DWELLING (APARTMENT, DUPLEX, ETC)          500.0   \n",
       "3        31  ...                           BEAUTY SUPPLY STORE          500.0   \n",
       "4        25  ...               NIGHT CLUB (OPEN EVENINGS ONLY)          500.0   \n",
       "\n",
       "                                      Weapon Desc  Status  Status Desc  \\\n",
       "0  STRONG-ARM (HANDS, FIST, FEET OR BODILY FORCE)      AO  Adult Other   \n",
       "1                     UNKNOWN WEAPON/OTHER WEAPON      IC  Invest Cont   \n",
       "2                     UNKNOWN WEAPON/OTHER WEAPON      IC  Invest Cont   \n",
       "3                     UNKNOWN WEAPON/OTHER WEAPON      IC  Invest Cont   \n",
       "4                     UNKNOWN WEAPON/OTHER WEAPON      IC  Invest Cont   \n",
       "\n",
       "                                   LOCATION      LAT       LON  \\\n",
       "0   1100 W  39TH                         PL  34.0141 -118.2978   \n",
       "1    700 S  HILL                         ST  34.0459 -118.2545   \n",
       "2   5400    CORTEEN                      PL  34.1685 -118.4019   \n",
       "3  14400    TITUS                        ST  34.2198 -118.4468   \n",
       "4                           700 S  BROADWAY  34.0452 -118.2534   \n",
       "\n",
       "   datetime_occ_str        datetime_occ  \n",
       "0  08/01/2020 22:30 2020-01-08 22:30:00  \n",
       "1  01/01/2020 03:30 2020-01-01 03:30:00  \n",
       "2  01/01/2020 17:30 2020-01-01 17:30:00  \n",
       "3  01/01/2020 04:15 2020-01-01 04:15:00  \n",
       "4  01/01/2020 00:30 2020-01-01 00:30:00  \n",
       "\n",
       "[5 rows x 22 columns]"
      ]
     },
     "execution_count": 29,
     "metadata": {},
     "output_type": "execute_result"
    }
   ],
   "source": [
    "CDBase2.limit(5).toPandas()"
   ]
  },
  {
   "cell_type": "code",
   "execution_count": 17,
   "id": "068c490d",
   "metadata": {
    "scrolled": true
   },
   "outputs": [
    {
     "name": "stdout",
     "output_type": "stream",
     "text": [
      "+----------------+\n",
      "|datetime_occ_str|\n",
      "+----------------+\n",
      "+----------------+\n",
      "\n"
     ]
    }
   ],
   "source": [
    "# check for null values within the datetime column\n",
    "problematic_rows = CDBase2.filter(CDBase2[\"datetime_occ\"].isNull())\n",
    "problematic_rows.select(\"datetime_occ_str\").distinct().show(truncate=False)"
   ]
  },
  {
   "cell_type": "code",
   "execution_count": 18,
   "id": "6cca6692",
   "metadata": {},
   "outputs": [],
   "source": [
    "# now apply for the extraction of the unique date and time stamp\n",
    "CDBase = CDBase.withColumn(\"year\", year(\"datetime_occ\"))\n",
    "CDBase = CDBase.withColumn(\"month\", month(\"datetime_occ\"))\n",
    "CDBase = CDBase.withColumn(\"day\", dayofmonth(\"datetime_occ\"))\n",
    "CDBase = CDBase.withColumn(\"hour\", hour(\"datetime_occ\"))"
   ]
  },
  {
   "cell_type": "code",
   "execution_count": 21,
   "id": "65a6fc59",
   "metadata": {},
   "outputs": [
    {
     "data": {
      "text/html": [
       "<div>\n",
       "<style scoped>\n",
       "    .dataframe tbody tr th:only-of-type {\n",
       "        vertical-align: middle;\n",
       "    }\n",
       "\n",
       "    .dataframe tbody tr th {\n",
       "        vertical-align: top;\n",
       "    }\n",
       "\n",
       "    .dataframe thead th {\n",
       "        text-align: right;\n",
       "    }\n",
       "</style>\n",
       "<table border=\"1\" class=\"dataframe\">\n",
       "  <thead>\n",
       "    <tr style=\"text-align: right;\">\n",
       "      <th></th>\n",
       "      <th>DR_NO</th>\n",
       "      <th>AREA</th>\n",
       "      <th>AREA NAME</th>\n",
       "      <th>Rpt Dist No</th>\n",
       "      <th>Crm Cd</th>\n",
       "      <th>Crm Cd Desc</th>\n",
       "      <th>Mocodes</th>\n",
       "      <th>Vict Age</th>\n",
       "      <th>Vict Sex</th>\n",
       "      <th>Vict Descent</th>\n",
       "      <th>...</th>\n",
       "      <th>Status Desc</th>\n",
       "      <th>LOCATION</th>\n",
       "      <th>LAT</th>\n",
       "      <th>LON</th>\n",
       "      <th>datetime_occ_str</th>\n",
       "      <th>datetime_occ</th>\n",
       "      <th>year</th>\n",
       "      <th>month</th>\n",
       "      <th>day</th>\n",
       "      <th>hour</th>\n",
       "    </tr>\n",
       "  </thead>\n",
       "  <tbody>\n",
       "    <tr>\n",
       "      <th>0</th>\n",
       "      <td>10304468</td>\n",
       "      <td>3</td>\n",
       "      <td>Southwest</td>\n",
       "      <td>377</td>\n",
       "      <td>624</td>\n",
       "      <td>BATTERY - SIMPLE ASSAULT</td>\n",
       "      <td>0444 0913</td>\n",
       "      <td>36</td>\n",
       "      <td>F</td>\n",
       "      <td>B</td>\n",
       "      <td>...</td>\n",
       "      <td>Adult Other</td>\n",
       "      <td>1100 W  39TH                         PL</td>\n",
       "      <td>34.0141</td>\n",
       "      <td>-118.2978</td>\n",
       "      <td>08/01/2020 22:30</td>\n",
       "      <td>2020-01-08 22:30:00</td>\n",
       "      <td>2020</td>\n",
       "      <td>1</td>\n",
       "      <td>8</td>\n",
       "      <td>22</td>\n",
       "    </tr>\n",
       "    <tr>\n",
       "      <th>1</th>\n",
       "      <td>190101086</td>\n",
       "      <td>1</td>\n",
       "      <td>Central</td>\n",
       "      <td>163</td>\n",
       "      <td>624</td>\n",
       "      <td>BATTERY - SIMPLE ASSAULT</td>\n",
       "      <td>0416 1822 1414</td>\n",
       "      <td>25</td>\n",
       "      <td>M</td>\n",
       "      <td>H</td>\n",
       "      <td>...</td>\n",
       "      <td>Invest Cont</td>\n",
       "      <td>700 S  HILL                         ST</td>\n",
       "      <td>34.0459</td>\n",
       "      <td>-118.2545</td>\n",
       "      <td>01/01/2020 03:30</td>\n",
       "      <td>2020-01-01 03:30:00</td>\n",
       "      <td>2020</td>\n",
       "      <td>1</td>\n",
       "      <td>1</td>\n",
       "      <td>3</td>\n",
       "    </tr>\n",
       "    <tr>\n",
       "      <th>2</th>\n",
       "      <td>191501505</td>\n",
       "      <td>15</td>\n",
       "      <td>N Hollywood</td>\n",
       "      <td>1543</td>\n",
       "      <td>745</td>\n",
       "      <td>VANDALISM - MISDEAMEANOR ($399 OR UNDER)</td>\n",
       "      <td>0329 1402</td>\n",
       "      <td>76</td>\n",
       "      <td>F</td>\n",
       "      <td>W</td>\n",
       "      <td>...</td>\n",
       "      <td>Invest Cont</td>\n",
       "      <td>5400    CORTEEN                      PL</td>\n",
       "      <td>34.1685</td>\n",
       "      <td>-118.4019</td>\n",
       "      <td>01/01/2020 17:30</td>\n",
       "      <td>2020-01-01 17:30:00</td>\n",
       "      <td>2020</td>\n",
       "      <td>1</td>\n",
       "      <td>1</td>\n",
       "      <td>17</td>\n",
       "    </tr>\n",
       "    <tr>\n",
       "      <th>3</th>\n",
       "      <td>191921269</td>\n",
       "      <td>19</td>\n",
       "      <td>Mission</td>\n",
       "      <td>1998</td>\n",
       "      <td>740</td>\n",
       "      <td>VANDALISM - FELONY ($400 &amp; OVER, ALL CHURCH VA...</td>\n",
       "      <td>0329</td>\n",
       "      <td>31</td>\n",
       "      <td>X</td>\n",
       "      <td>X</td>\n",
       "      <td>...</td>\n",
       "      <td>Invest Cont</td>\n",
       "      <td>14400    TITUS                        ST</td>\n",
       "      <td>34.2198</td>\n",
       "      <td>-118.4468</td>\n",
       "      <td>01/01/2020 04:15</td>\n",
       "      <td>2020-01-01 04:15:00</td>\n",
       "      <td>2020</td>\n",
       "      <td>1</td>\n",
       "      <td>1</td>\n",
       "      <td>4</td>\n",
       "    </tr>\n",
       "    <tr>\n",
       "      <th>4</th>\n",
       "      <td>200100501</td>\n",
       "      <td>1</td>\n",
       "      <td>Central</td>\n",
       "      <td>163</td>\n",
       "      <td>121</td>\n",
       "      <td>RAPE, FORCIBLE</td>\n",
       "      <td>0413 1822 1262 1415</td>\n",
       "      <td>25</td>\n",
       "      <td>F</td>\n",
       "      <td>H</td>\n",
       "      <td>...</td>\n",
       "      <td>Invest Cont</td>\n",
       "      <td>700 S  BROADWAY</td>\n",
       "      <td>34.0452</td>\n",
       "      <td>-118.2534</td>\n",
       "      <td>01/01/2020 00:30</td>\n",
       "      <td>2020-01-01 00:30:00</td>\n",
       "      <td>2020</td>\n",
       "      <td>1</td>\n",
       "      <td>1</td>\n",
       "      <td>0</td>\n",
       "    </tr>\n",
       "  </tbody>\n",
       "</table>\n",
       "<p>5 rows × 24 columns</p>\n",
       "</div>"
      ],
      "text/plain": [
       "       DR_NO  AREA    AREA NAME  Rpt Dist No  Crm Cd  \\\n",
       "0   10304468     3    Southwest          377     624   \n",
       "1  190101086     1      Central          163     624   \n",
       "2  191501505    15  N Hollywood         1543     745   \n",
       "3  191921269    19      Mission         1998     740   \n",
       "4  200100501     1      Central          163     121   \n",
       "\n",
       "                                         Crm Cd Desc              Mocodes  \\\n",
       "0                           BATTERY - SIMPLE ASSAULT            0444 0913   \n",
       "1                           BATTERY - SIMPLE ASSAULT       0416 1822 1414   \n",
       "2           VANDALISM - MISDEAMEANOR ($399 OR UNDER)            0329 1402   \n",
       "3  VANDALISM - FELONY ($400 & OVER, ALL CHURCH VA...                 0329   \n",
       "4                                     RAPE, FORCIBLE  0413 1822 1262 1415   \n",
       "\n",
       "   Vict Age Vict Sex Vict Descent  ...  Status Desc  \\\n",
       "0        36        F            B  ...  Adult Other   \n",
       "1        25        M            H  ...  Invest Cont   \n",
       "2        76        F            W  ...  Invest Cont   \n",
       "3        31        X            X  ...  Invest Cont   \n",
       "4        25        F            H  ...  Invest Cont   \n",
       "\n",
       "                                   LOCATION      LAT       LON  \\\n",
       "0   1100 W  39TH                         PL  34.0141 -118.2978   \n",
       "1    700 S  HILL                         ST  34.0459 -118.2545   \n",
       "2   5400    CORTEEN                      PL  34.1685 -118.4019   \n",
       "3  14400    TITUS                        ST  34.2198 -118.4468   \n",
       "4                           700 S  BROADWAY  34.0452 -118.2534   \n",
       "\n",
       "   datetime_occ_str        datetime_occ  year  month day hour  \n",
       "0  08/01/2020 22:30 2020-01-08 22:30:00  2020      1   8   22  \n",
       "1  01/01/2020 03:30 2020-01-01 03:30:00  2020      1   1    3  \n",
       "2  01/01/2020 17:30 2020-01-01 17:30:00  2020      1   1   17  \n",
       "3  01/01/2020 04:15 2020-01-01 04:15:00  2020      1   1    4  \n",
       "4  01/01/2020 00:30 2020-01-01 00:30:00  2020      1   1    0  \n",
       "\n",
       "[5 rows x 24 columns]"
      ]
     },
     "execution_count": 21,
     "metadata": {},
     "output_type": "execute_result"
    }
   ],
   "source": [
    "# CDBase = CDBase.dropna()\n",
    "CDBase.limit(5).toPandas()"
   ]
  },
  {
   "cell_type": "code",
   "execution_count": 22,
   "id": "8f90a398",
   "metadata": {},
   "outputs": [
    {
     "name": "stdout",
     "output_type": "stream",
     "text": [
      "root\n",
      " |-- DR_NO: integer (nullable = true)\n",
      " |-- AREA: integer (nullable = true)\n",
      " |-- AREA NAME: string (nullable = true)\n",
      " |-- Rpt Dist No: integer (nullable = true)\n",
      " |-- Crm Cd: integer (nullable = true)\n",
      " |-- Crm Cd Desc: string (nullable = true)\n",
      " |-- Mocodes: string (nullable = true)\n",
      " |-- Vict Age: integer (nullable = true)\n",
      " |-- Vict Sex: string (nullable = true)\n",
      " |-- Vict Descent: string (nullable = true)\n",
      " |-- Premis Desc: string (nullable = true)\n",
      " |-- Weapon Used Cd: double (nullable = true)\n",
      " |-- Weapon Desc: string (nullable = true)\n",
      " |-- Status: string (nullable = true)\n",
      " |-- Status Desc: string (nullable = true)\n",
      " |-- LOCATION: string (nullable = true)\n",
      " |-- LAT: double (nullable = true)\n",
      " |-- LON: double (nullable = true)\n",
      " |-- datetime_occ_str: string (nullable = false)\n",
      " |-- datetime_occ: timestamp (nullable = true)\n",
      " |-- year: integer (nullable = true)\n",
      " |-- month: integer (nullable = true)\n",
      " |-- day: integer (nullable = true)\n",
      " |-- hour: integer (nullable = true)\n",
      "\n"
     ]
    }
   ],
   "source": [
    "# check for validation of application\n",
    "CDBase.printSchema()"
   ]
  },
  {
   "cell_type": "code",
   "execution_count": 23,
   "id": "0b18b006",
   "metadata": {},
   "outputs": [
    {
     "name": "stdout",
     "output_type": "stream",
     "text": [
      "+------+--------------------+-----+\n",
      "|Crm Cd|         Crm Cd Desc|count|\n",
      "+------+--------------------+-----+\n",
      "|   626|INTIMATE PARTNER ...|25788|\n",
      "|   230|ASSAULT WITH DEAD...|29314|\n",
      "|   654|CREDIT CARDS, FRA...|   42|\n",
      "|   821|SODOMY/SEXUAL CON...|  280|\n",
      "|   943|  CRUELTY TO ANIMALS|  132|\n",
      "|   237|CHILD NEGLECT (SE...|  624|\n",
      "|   649|DOCUMENT FORGERY ...| 1603|\n",
      "|   810|SEX,UNLAWFUL(INC ...|  550|\n",
      "|   473|THEFT, COIN MACHI...|    5|\n",
      "|   822|HUMAN TRAFFICKING...|  255|\n",
      "|   888|         TRESPASSING| 6725|\n",
      "|   434|  FALSE IMPRISONMENT|  170|\n",
      "|   420|THEFT FROM MOTOR ...|21146|\n",
      "|   235|CHILD ABUSE (PHYS...|  338|\n",
      "|   320| BURGLARY, ATTEMPTED| 2096|\n",
      "|   670|EMBEZZLEMENT, PET...|   49|\n",
      "|   956|LETTERS, LEWD  - ...| 4138|\n",
      "|   652|DOCUMENT WORTHLES...|   19|\n",
      "|   933|             PROWLER|  103|\n",
      "|   850|   INDECENT EXPOSURE|  634|\n",
      "|   331|THEFT FROM MOTOR ...|15613|\n",
      "|   310|            BURGLARY|30507|\n",
      "|   814|   CHILD PORNOGRAPHY|  137|\n",
      "|   485|BIKE - ATTEMPTED ...|    6|\n",
      "|   666|      BUNCO, ATTEMPT|  181|\n",
      "|   421|THEFT FROM MOTOR ...|  596|\n",
      "|   121|      RAPE, FORCIBLE| 1986|\n",
      "|   624|BATTERY - SIMPLE ...|39612|\n",
      "|   922|      CHILD STEALING|  241|\n",
      "|   813|CHILD ANNOYING (1...|  528|\n",
      "|   902|VIOLATION OF TEMP...|  458|\n",
      "|   231|ASSAULT WITH DEAD...|  697|\n",
      "|   341|THEFT-GRAND ($950...|15053|\n",
      "|   435|            LYNCHING|   11|\n",
      "|   210|             ROBBERY|17605|\n",
      "|   622|BATTERY ON A FIRE...|  127|\n",
      "|   880|      DISRUPT SCHOOL|    7|\n",
      "|   520|VEHICLE - ATTEMPT...| 1409|\n",
      "|   901|VIOLATION OF REST...| 6481|\n",
      "|   351|     PURSE SNATCHING|   65|\n",
      "|   343|SHOPLIFTING-GRAND...| 1541|\n",
      "|   470|TILL TAP - GRAND ...|    6|\n",
      "|   940|           EXTORTION|  929|\n",
      "|   443|SHOPLIFTING - ATT...|   52|\n",
      "|   903|   CONTEMPT OF COURT| 1540|\n",
      "|   471|TILL TAP - PETTY ...|   13|\n",
      "|   236|INTIMATE PARTNER ...| 7073|\n",
      "|   921|HUMAN TRAFFICKING...|   57|\n",
      "|   820|     ORAL COPULATION|  385|\n",
      "|   662|  BUNCO, GRAND THEFT| 2922|\n",
      "|   756|WEAPONS POSSESSIO...|   21|\n",
      "|   345|DISHONEST EMPLOYE...|   20|\n",
      "|   480|       BIKE - STOLEN| 4894|\n",
      "|   647|THROWING OBJECT A...|  449|\n",
      "|   760|LEWD/LASCIVIOUS A...|   50|\n",
      "|   437|    RESISTING ARREST|  512|\n",
      "|   928|THREATENING PHONE...|  293|\n",
      "|   886|DISTURBING THE PEACE|  791|\n",
      "|   668|EMBEZZLEMENT, GRA...| 1924|\n",
      "|   623|BATTERY POLICE (S...| 1474|\n",
      "|   330|BURGLARY FROM VEH...|32071|\n",
      "|   900|VIOLATION OF COUR...| 3501|\n",
      "|   510|    VEHICLE - STOLEN|54601|\n",
      "|   110|   CRIMINAL HOMICIDE|  895|\n",
      "|   755|          BOMB SCARE|  241|\n",
      "|   664|  BUNCO, PETTY THEFT| 1151|\n",
      "|   920|KIDNAPPING - GRAN...|  127|\n",
      "|   648|               ARSON| 1489|\n",
      "|   812|CRM AGNST CHLD (1...|  910|\n",
      "|   354|   THEFT OF IDENTITY|25295|\n",
      "|   522|VEHICLE - MOTORIZ...|  624|\n",
      "|   122|     RAPE, ATTEMPTED|  168|\n",
      "|   350|       THEFT, PERSON| 2266|\n",
      "|   763|            STALKING|  319|\n",
      "|   860|BATTERY WITH SEXU...| 2215|\n",
      "|   661|UNAUTHORIZED COMP...|  314|\n",
      "|   753|DISCHARGE FIREARM...| 1547|\n",
      "|   653|CREDIT CARDS, FRA...|   64|\n",
      "|   440|THEFT PLAIN - PET...|26244|\n",
      "|   910|          KIDNAPPING|  423|\n",
      "|   441|THEFT PLAIN - ATT...|  277|\n",
      "|   450|THEFT FROM PERSON...|   60|\n",
      "|   352|          PICKPOCKET|  570|\n",
      "|   954|        CONTRIBUTING|   16|\n",
      "|   949|     ILLEGAL DUMPING|   65|\n",
      "|   625|       OTHER ASSAULT| 2434|\n",
      "|   651|DOCUMENT WORTHLES...|   29|\n",
      "|   627|CHILD ABUSE (PHYS...| 1861|\n",
      "|   944|          CONSPIRACY|   13|\n",
      "|   438|    RECKLESS DRIVING|  147|\n",
      "|   762|        LEWD CONDUCT|  371|\n",
      "|   442|SHOPLIFTING - PET...| 8090|\n",
      "|   433|DRIVING WITHOUT O...|  109|\n",
      "|   932|         PEEPING TOM|  180|\n",
      "|   805|             PIMPING|   89|\n",
      "|   946|OTHER MISCELLANEO...| 3768|\n",
      "|   740|VANDALISM - FELON...|31969|\n",
      "|   487|       BOAT - STOLEN|   68|\n",
      "|   890|    FAILURE TO YIELD|  704|\n",
      "|   806|           PANDERING|   62|\n",
      "+------+--------------------+-----+\n",
      "only showing top 100 rows\n",
      "\n"
     ]
    }
   ],
   "source": [
    "CDBase.groupBy(\"Crm Cd\", \"Crm Cd Desc\").count().show(100)"
   ]
  },
  {
   "cell_type": "code",
   "execution_count": 24,
   "id": "eaea8611",
   "metadata": {},
   "outputs": [
    {
     "name": "stdout",
     "output_type": "stream",
     "text": [
      "+------+-----+\n",
      "|Crm Cd|count|\n",
      "+------+-----+\n",
      "|   349|    1|\n",
      "|   432|    1|\n",
      "|   924|    2|\n",
      "|   884|    2|\n",
      "|   906|    3|\n",
      "|   452|    3|\n",
      "|   904|    3|\n",
      "|   830|    3|\n",
      "|   347|    4|\n",
      "|   840|    4|\n",
      "|   948|    4|\n",
      "|   473|    5|\n",
      "|   113|    5|\n",
      "|   942|    5|\n",
      "|   475|    5|\n",
      "|   470|    6|\n",
      "|   485|    6|\n",
      "|   880|    7|\n",
      "|   451|    7|\n",
      "|   446|    7|\n",
      "+------+-----+\n",
      "only showing top 20 rows\n",
      "\n"
     ]
    }
   ],
   "source": [
    "from pyspark.sql import functions as F\n",
    "\n",
    "# Group by 'Crm Cd' column, count the rows, and sort the result in ascending order\n",
    "result = CDBase.groupBy(\"Crm Cd\").count().orderBy(F.col(\"count\").asc())\n",
    "\n",
    "# Show the result\n",
    "result.show()\n"
   ]
  },
  {
   "cell_type": "code",
   "execution_count": 25,
   "id": "9c5a6e68",
   "metadata": {},
   "outputs": [
    {
     "name": "stdout",
     "output_type": "stream",
     "text": [
      "+------+-----+\n",
      "|Crm Cd|count|\n",
      "+------+-----+\n",
      "|   510|54601|\n",
      "|   624|39612|\n",
      "|   330|32071|\n",
      "|   740|31969|\n",
      "|   310|30507|\n",
      "|   230|29314|\n",
      "|   440|26244|\n",
      "|   626|25788|\n",
      "|   354|25295|\n",
      "|   420|21146|\n",
      "|   210|17605|\n",
      "|   331|15613|\n",
      "|   745|15455|\n",
      "|   341|15053|\n",
      "|   930|10354|\n",
      "|   442| 8090|\n",
      "|   761| 7831|\n",
      "|   236| 7073|\n",
      "|   888| 6725|\n",
      "|   901| 6481|\n",
      "+------+-----+\n",
      "only showing top 20 rows\n",
      "\n"
     ]
    }
   ],
   "source": [
    "# Group by 'Crm Cd' column, count the rows, and sort the result in ascending order\n",
    "result = CDBase.groupBy(\"Crm Cd\").count().orderBy(F.col(\"count\").desc())\n",
    "\n",
    "# Show the result\n",
    "result.show()\n"
   ]
  },
  {
   "cell_type": "markdown",
   "id": "79f2310b",
   "metadata": {},
   "source": [
    "## Feature Engineering"
   ]
  },
  {
   "cell_type": "code",
   "execution_count": 26,
   "id": "38080423",
   "metadata": {},
   "outputs": [
    {
     "name": "stdout",
     "output_type": "stream",
     "text": [
      "+------+-----+--------------+\n",
      "|Crm Cd|count|Crm_type_group|\n",
      "+------+-----+--------------+\n",
      "|   471|   13|             4|\n",
      "|   623| 1474|             3|\n",
      "|   251|  998|             4|\n",
      "|   756|   21|             4|\n",
      "|   210|17605|             1|\n",
      "|   762|  371|             4|\n",
      "|   626|25788|             1|\n",
      "|   806|   62|             4|\n",
      "|   236| 7073|             2|\n",
      "|   350| 2266|             3|\n",
      "|   860| 2215|             3|\n",
      "|   822|  255|             4|\n",
      "|   330|32071|             1|\n",
      "|   230|29314|             1|\n",
      "|   625| 2434|             3|\n",
      "|   122|  168|             4|\n",
      "|   654|   42|             4|\n",
      "|   660|   78|             4|\n",
      "|   473|    5|             4|\n",
      "|   435|   11|             4|\n",
      "+------+-----+--------------+\n",
      "only showing top 20 rows\n",
      "\n"
     ]
    }
   ],
   "source": [
    "# Calculate the counts for each 'Crm Cd'\n",
    "counts = CDBase.groupBy(\"Crm Cd\").count()\n",
    "\n",
    "# Define the ranges and create a new column 'group'\n",
    "counts = counts.withColumn(\n",
    "    \"Crm_type_group\",\n",
    "    F.when((F.col(\"count\") >= 15000), \"1\")\n",
    "    .when((F.col(\"count\") >= 6000) & (F.col(\"count\") < 15000), \"2\")\n",
    "    .when((F.col(\"count\") >= 1000) & (F.col(\"count\") < 6000), \"3\")\n",
    "    .otherwise(\"4\"),\n",
    ")\n",
    "\n",
    "# Show the result\n",
    "counts.show()\n"
   ]
  },
  {
   "cell_type": "code",
   "execution_count": 27,
   "id": "d86a5e04",
   "metadata": {},
   "outputs": [
    {
     "name": "stdout",
     "output_type": "stream",
     "text": [
      "+------+---------+----+---------+-----------+--------------------+--------------------+--------+--------+------------+--------------------+--------------+--------------------+------+-----------+--------------------+-------+---------+----------------+-------------------+----+-----+---+----+--------------+\n",
      "|Crm Cd|    DR_NO|AREA|AREA NAME|Rpt Dist No|         Crm Cd Desc|             Mocodes|Vict Age|Vict Sex|Vict Descent|         Premis Desc|Weapon Used Cd|         Weapon Desc|Status|Status Desc|            LOCATION|    LAT|      LON|datetime_occ_str|       datetime_occ|year|month|day|hour|Crm_type_group|\n",
      "+------+---------+----+---------+-----------+--------------------+--------------------+--------+--------+------------+--------------------+--------------+--------------------+------+-----------+--------------------+-------+---------+----------------+-------------------+----+-----+---+----+--------------+\n",
      "|   471|200507137|   5|   Harbor|        505|TILL TAP - PETTY ...|0342 0380 0104 10...|       0|       X|           X|      OTHER BUSINESS|         500.0|UNKNOWN WEAPON/OT...|    IC|Invest Cont|900 W  190TH     ...|33.8592|-118.2899|13/03/2020 17:10|2020-03-13 17:10:00|2020|    3| 13|  17|             4|\n",
      "|   623|200104047|   1|  Central|        153|BATTERY POLICE (S...|2004 1212 0917 09...|       0|       X|           X|MTA - RED LINE - ...|         400.0|STRONG-ARM (HANDS...|    IC|Invest Cont|500 S  HILL      ...|34.0488|-118.2518|01/01/2020 09:05|2020-01-01 09:05:00|2020|    1|  1|   9|             3|\n",
      "|   623|200104048|   1|  Central|        153|BATTERY POLICE (S...|2004 1212 0917 09...|       0|       X|           X|MTA - RED LINE - ...|         400.0|STRONG-ARM (HANDS...|    IC|Invest Cont|500 S  HILL      ...|34.0488|-118.2518|01/01/2020 09:05|2020-01-01 09:05:00|2020|    1|  1|   9|             3|\n",
      "|   623|200104319|   1|  Central|        127|BATTERY POLICE (S...|           1212 0356|       0|       X|           X|DETENTION/JAIL FA...|         400.0|STRONG-ARM (HANDS...|    IC|Invest Cont|100 N  LOS ANGELE...|34.0515|-118.2424|04/01/2020 23:45|2020-01-04 23:45:00|2020|    1|  4|  23|             3|\n",
      "|   623|200105481|   1|  Central|        163|BATTERY POLICE (S...|      0417 1822 1212|      48|       M|           H|            SIDEWALK|         400.0|STRONG-ARM (HANDS...|    AO|Adult Other|     700 S  BROADWAY|34.0452|-118.2534|22/01/2020 17:55|2020-01-22 17:55:00|2020|    1| 22|  17|             3|\n",
      "+------+---------+----+---------+-----------+--------------------+--------------------+--------+--------+------------+--------------------+--------------+--------------------+------+-----------+--------------------+-------+---------+----------------+-------------------+----+-----+---+----+--------------+\n",
      "only showing top 5 rows\n",
      "\n"
     ]
    }
   ],
   "source": [
    "# Join the CDBase DataFrame with the counts DataFrame on the 'Crm Cd' column\n",
    "CDBasex = CDBase.join(counts, on=\"Crm Cd\", how=\"inner\")\n",
    "\n",
    "# Drop the 'count' column as it's not needed anymore\n",
    "CDBase = CDBasex.drop(\"count\")\n",
    "\n",
    "# Show the result\n",
    "CDBase.show(5)\n"
   ]
  },
  {
   "cell_type": "code",
   "execution_count": 28,
   "id": "7b729ac0",
   "metadata": {},
   "outputs": [
    {
     "data": {
      "text/html": [
       "<div>\n",
       "<style scoped>\n",
       "    .dataframe tbody tr th:only-of-type {\n",
       "        vertical-align: middle;\n",
       "    }\n",
       "\n",
       "    .dataframe tbody tr th {\n",
       "        vertical-align: top;\n",
       "    }\n",
       "\n",
       "    .dataframe thead th {\n",
       "        text-align: right;\n",
       "    }\n",
       "</style>\n",
       "<table border=\"1\" class=\"dataframe\">\n",
       "  <thead>\n",
       "    <tr style=\"text-align: right;\">\n",
       "      <th></th>\n",
       "      <th>Crm Cd</th>\n",
       "      <th>DR_NO</th>\n",
       "      <th>AREA</th>\n",
       "      <th>AREA NAME</th>\n",
       "      <th>Rpt Dist No</th>\n",
       "      <th>Crm Cd Desc</th>\n",
       "      <th>Mocodes</th>\n",
       "      <th>Vict Age</th>\n",
       "      <th>Vict Sex</th>\n",
       "      <th>Vict Descent</th>\n",
       "      <th>...</th>\n",
       "      <th>LOCATION</th>\n",
       "      <th>LAT</th>\n",
       "      <th>LON</th>\n",
       "      <th>datetime_occ_str</th>\n",
       "      <th>datetime_occ</th>\n",
       "      <th>year</th>\n",
       "      <th>month</th>\n",
       "      <th>day</th>\n",
       "      <th>hour</th>\n",
       "      <th>Crm_type_group</th>\n",
       "    </tr>\n",
       "  </thead>\n",
       "  <tbody>\n",
       "    <tr>\n",
       "      <th>0</th>\n",
       "      <td>471</td>\n",
       "      <td>200507137</td>\n",
       "      <td>5</td>\n",
       "      <td>Harbor</td>\n",
       "      <td>505</td>\n",
       "      <td>TILL TAP - PETTY ($950 &amp; UNDER)</td>\n",
       "      <td>0342 0380 0104 1027 0324 0344 1236 1309</td>\n",
       "      <td>0</td>\n",
       "      <td>X</td>\n",
       "      <td>X</td>\n",
       "      <td>...</td>\n",
       "      <td>900 W  190TH                        ST</td>\n",
       "      <td>33.8592</td>\n",
       "      <td>-118.2899</td>\n",
       "      <td>13/03/2020 17:10</td>\n",
       "      <td>2020-03-13 17:10:00</td>\n",
       "      <td>2020</td>\n",
       "      <td>3</td>\n",
       "      <td>13</td>\n",
       "      <td>17</td>\n",
       "      <td>4</td>\n",
       "    </tr>\n",
       "    <tr>\n",
       "      <th>1</th>\n",
       "      <td>623</td>\n",
       "      <td>200104047</td>\n",
       "      <td>1</td>\n",
       "      <td>Central</td>\n",
       "      <td>153</td>\n",
       "      <td>BATTERY POLICE (SIMPLE)</td>\n",
       "      <td>2004 1212 0917 0910 1822 0417 2048</td>\n",
       "      <td>0</td>\n",
       "      <td>X</td>\n",
       "      <td>X</td>\n",
       "      <td>...</td>\n",
       "      <td>500 S  HILL                         ST</td>\n",
       "      <td>34.0488</td>\n",
       "      <td>-118.2518</td>\n",
       "      <td>01/01/2020 09:05</td>\n",
       "      <td>2020-01-01 09:05:00</td>\n",
       "      <td>2020</td>\n",
       "      <td>1</td>\n",
       "      <td>1</td>\n",
       "      <td>9</td>\n",
       "      <td>3</td>\n",
       "    </tr>\n",
       "    <tr>\n",
       "      <th>2</th>\n",
       "      <td>623</td>\n",
       "      <td>200104048</td>\n",
       "      <td>1</td>\n",
       "      <td>Central</td>\n",
       "      <td>153</td>\n",
       "      <td>BATTERY POLICE (SIMPLE)</td>\n",
       "      <td>2004 1212 0917 0910 1822 0417 2048</td>\n",
       "      <td>0</td>\n",
       "      <td>X</td>\n",
       "      <td>X</td>\n",
       "      <td>...</td>\n",
       "      <td>500 S  HILL                         ST</td>\n",
       "      <td>34.0488</td>\n",
       "      <td>-118.2518</td>\n",
       "      <td>01/01/2020 09:05</td>\n",
       "      <td>2020-01-01 09:05:00</td>\n",
       "      <td>2020</td>\n",
       "      <td>1</td>\n",
       "      <td>1</td>\n",
       "      <td>9</td>\n",
       "      <td>3</td>\n",
       "    </tr>\n",
       "    <tr>\n",
       "      <th>3</th>\n",
       "      <td>623</td>\n",
       "      <td>200104319</td>\n",
       "      <td>1</td>\n",
       "      <td>Central</td>\n",
       "      <td>127</td>\n",
       "      <td>BATTERY POLICE (SIMPLE)</td>\n",
       "      <td>1212 0356</td>\n",
       "      <td>0</td>\n",
       "      <td>X</td>\n",
       "      <td>X</td>\n",
       "      <td>...</td>\n",
       "      <td>100 N  LOS ANGELES                  ST</td>\n",
       "      <td>34.0515</td>\n",
       "      <td>-118.2424</td>\n",
       "      <td>04/01/2020 23:45</td>\n",
       "      <td>2020-01-04 23:45:00</td>\n",
       "      <td>2020</td>\n",
       "      <td>1</td>\n",
       "      <td>4</td>\n",
       "      <td>23</td>\n",
       "      <td>3</td>\n",
       "    </tr>\n",
       "    <tr>\n",
       "      <th>4</th>\n",
       "      <td>623</td>\n",
       "      <td>200105481</td>\n",
       "      <td>1</td>\n",
       "      <td>Central</td>\n",
       "      <td>163</td>\n",
       "      <td>BATTERY POLICE (SIMPLE)</td>\n",
       "      <td>0417 1822 1212</td>\n",
       "      <td>48</td>\n",
       "      <td>M</td>\n",
       "      <td>H</td>\n",
       "      <td>...</td>\n",
       "      <td>700 S  BROADWAY</td>\n",
       "      <td>34.0452</td>\n",
       "      <td>-118.2534</td>\n",
       "      <td>22/01/2020 17:55</td>\n",
       "      <td>2020-01-22 17:55:00</td>\n",
       "      <td>2020</td>\n",
       "      <td>1</td>\n",
       "      <td>22</td>\n",
       "      <td>17</td>\n",
       "      <td>3</td>\n",
       "    </tr>\n",
       "  </tbody>\n",
       "</table>\n",
       "<p>5 rows × 25 columns</p>\n",
       "</div>"
      ],
      "text/plain": [
       "   Crm Cd      DR_NO  AREA AREA NAME  Rpt Dist No  \\\n",
       "0     471  200507137     5    Harbor          505   \n",
       "1     623  200104047     1   Central          153   \n",
       "2     623  200104048     1   Central          153   \n",
       "3     623  200104319     1   Central          127   \n",
       "4     623  200105481     1   Central          163   \n",
       "\n",
       "                       Crm Cd Desc                                  Mocodes  \\\n",
       "0  TILL TAP - PETTY ($950 & UNDER)  0342 0380 0104 1027 0324 0344 1236 1309   \n",
       "1          BATTERY POLICE (SIMPLE)       2004 1212 0917 0910 1822 0417 2048   \n",
       "2          BATTERY POLICE (SIMPLE)       2004 1212 0917 0910 1822 0417 2048   \n",
       "3          BATTERY POLICE (SIMPLE)                                1212 0356   \n",
       "4          BATTERY POLICE (SIMPLE)                           0417 1822 1212   \n",
       "\n",
       "   Vict Age Vict Sex Vict Descent  ...  \\\n",
       "0         0        X            X  ...   \n",
       "1         0        X            X  ...   \n",
       "2         0        X            X  ...   \n",
       "3         0        X            X  ...   \n",
       "4        48        M            H  ...   \n",
       "\n",
       "                                 LOCATION      LAT       LON  \\\n",
       "0  900 W  190TH                        ST  33.8592 -118.2899   \n",
       "1  500 S  HILL                         ST  34.0488 -118.2518   \n",
       "2  500 S  HILL                         ST  34.0488 -118.2518   \n",
       "3  100 N  LOS ANGELES                  ST  34.0515 -118.2424   \n",
       "4                         700 S  BROADWAY  34.0452 -118.2534   \n",
       "\n",
       "   datetime_occ_str        datetime_occ  year  month  day hour Crm_type_group  \n",
       "0  13/03/2020 17:10 2020-03-13 17:10:00  2020      3   13   17              4  \n",
       "1  01/01/2020 09:05 2020-01-01 09:05:00  2020      1    1    9              3  \n",
       "2  01/01/2020 09:05 2020-01-01 09:05:00  2020      1    1    9              3  \n",
       "3  04/01/2020 23:45 2020-01-04 23:45:00  2020      1    4   23              3  \n",
       "4  22/01/2020 17:55 2020-01-22 17:55:00  2020      1   22   17              3  \n",
       "\n",
       "[5 rows x 25 columns]"
      ]
     },
     "execution_count": 28,
     "metadata": {},
     "output_type": "execute_result"
    }
   ],
   "source": [
    "CDBase.limit(5).toPandas()"
   ]
  },
  {
   "cell_type": "code",
   "execution_count": 26,
   "id": "911626ed",
   "metadata": {},
   "outputs": [
    {
     "name": "stdout",
     "output_type": "stream",
     "text": [
      "root\n",
      " |-- Crm Cd: integer (nullable = true)\n",
      " |-- DR_NO: integer (nullable = true)\n",
      " |-- AREA: integer (nullable = true)\n",
      " |-- AREA NAME: string (nullable = true)\n",
      " |-- Rpt Dist No: integer (nullable = true)\n",
      " |-- Crm Cd Desc: string (nullable = true)\n",
      " |-- Mocodes: string (nullable = true)\n",
      " |-- Vict Age: integer (nullable = true)\n",
      " |-- Vict Sex: string (nullable = true)\n",
      " |-- Vict Descent: string (nullable = true)\n",
      " |-- Premis Desc: string (nullable = true)\n",
      " |-- Weapon Used Cd: double (nullable = true)\n",
      " |-- Weapon Desc: string (nullable = true)\n",
      " |-- Status: string (nullable = true)\n",
      " |-- Status Desc: string (nullable = true)\n",
      " |-- LOCATION: string (nullable = true)\n",
      " |-- LAT: double (nullable = true)\n",
      " |-- LON: double (nullable = true)\n",
      " |-- datetime_occ_str: string (nullable = false)\n",
      " |-- datetime_occ: timestamp (nullable = true)\n",
      " |-- year: integer (nullable = true)\n",
      " |-- month: integer (nullable = true)\n",
      " |-- day: integer (nullable = true)\n",
      " |-- hour: integer (nullable = true)\n",
      " |-- Crm_type_group: string (nullable = false)\n",
      "\n"
     ]
    }
   ],
   "source": [
    "CDBase.printSchema()"
   ]
  },
  {
   "cell_type": "code",
   "execution_count": 27,
   "id": "99e6174b",
   "metadata": {},
   "outputs": [],
   "source": [
    "CDBase_new = CDBase.withColumn('Crm_type_group', col('Crm_type_group').cast('integer'))"
   ]
  },
  {
   "cell_type": "code",
   "execution_count": 28,
   "id": "1c15eba6",
   "metadata": {},
   "outputs": [
    {
     "name": "stdout",
     "output_type": "stream",
     "text": [
      "root\n",
      " |-- Crm Cd: integer (nullable = true)\n",
      " |-- DR_NO: integer (nullable = true)\n",
      " |-- AREA: integer (nullable = true)\n",
      " |-- AREA NAME: string (nullable = true)\n",
      " |-- Rpt Dist No: integer (nullable = true)\n",
      " |-- Crm Cd Desc: string (nullable = true)\n",
      " |-- Mocodes: string (nullable = true)\n",
      " |-- Vict Age: integer (nullable = true)\n",
      " |-- Vict Sex: string (nullable = true)\n",
      " |-- Vict Descent: string (nullable = true)\n",
      " |-- Premis Desc: string (nullable = true)\n",
      " |-- Weapon Used Cd: double (nullable = true)\n",
      " |-- Weapon Desc: string (nullable = true)\n",
      " |-- Status: string (nullable = true)\n",
      " |-- Status Desc: string (nullable = true)\n",
      " |-- LOCATION: string (nullable = true)\n",
      " |-- LAT: double (nullable = true)\n",
      " |-- LON: double (nullable = true)\n",
      " |-- datetime_occ_str: string (nullable = false)\n",
      " |-- datetime_occ: timestamp (nullable = true)\n",
      " |-- year: integer (nullable = true)\n",
      " |-- month: integer (nullable = true)\n",
      " |-- day: integer (nullable = true)\n",
      " |-- hour: integer (nullable = true)\n",
      " |-- Crm_type_group: integer (nullable = true)\n",
      "\n"
     ]
    }
   ],
   "source": [
    "CDBase_new.printSchema()"
   ]
  },
  {
   "cell_type": "code",
   "execution_count": 29,
   "id": "19024f05",
   "metadata": {},
   "outputs": [],
   "source": [
    "from pyspark.ml.feature import StringIndexer\n",
    "from pyspark.ml import Pipeline\n",
    "\n",
    "categorical_columns = [\"Vict Sex\", \"Vict Descent\", \"Premis Desc\"]\n",
    "\n",
    "indexers = [StringIndexer(inputCol=column, outputCol=column+\"_index\") for column in categorical_columns]\n",
    "\n",
    "# set the stages from the list of indexers above \n",
    "pipeline = Pipeline(stages=indexers)\n"
   ]
  },
  {
   "cell_type": "code",
   "execution_count": 30,
   "id": "fb10b5bf",
   "metadata": {},
   "outputs": [],
   "source": [
    "model = pipeline.fit(CDBase_new)\n",
    "# here we fit the "
   ]
  },
  {
   "cell_type": "code",
   "execution_count": 31,
   "id": "034945ae",
   "metadata": {},
   "outputs": [],
   "source": [
    "# then transform the dataset using the fitted pipeline\n",
    "CDBase_indexed = model.transform(CDBase_new)\n"
   ]
  },
  {
   "cell_type": "code",
   "execution_count": 32,
   "id": "040a20d0",
   "metadata": {},
   "outputs": [
    {
     "name": "stdout",
     "output_type": "stream",
     "text": [
      "root\n",
      " |-- Crm Cd: integer (nullable = true)\n",
      " |-- DR_NO: integer (nullable = true)\n",
      " |-- AREA: integer (nullable = true)\n",
      " |-- AREA NAME: string (nullable = true)\n",
      " |-- Rpt Dist No: integer (nullable = true)\n",
      " |-- Crm Cd Desc: string (nullable = true)\n",
      " |-- Mocodes: string (nullable = true)\n",
      " |-- Vict Age: integer (nullable = true)\n",
      " |-- Vict Sex: string (nullable = true)\n",
      " |-- Vict Descent: string (nullable = true)\n",
      " |-- Premis Desc: string (nullable = true)\n",
      " |-- Weapon Used Cd: double (nullable = true)\n",
      " |-- Weapon Desc: string (nullable = true)\n",
      " |-- Status: string (nullable = true)\n",
      " |-- Status Desc: string (nullable = true)\n",
      " |-- LOCATION: string (nullable = true)\n",
      " |-- LAT: double (nullable = true)\n",
      " |-- LON: double (nullable = true)\n",
      " |-- datetime_occ_str: string (nullable = false)\n",
      " |-- datetime_occ: timestamp (nullable = true)\n",
      " |-- year: integer (nullable = true)\n",
      " |-- month: integer (nullable = true)\n",
      " |-- day: integer (nullable = true)\n",
      " |-- hour: integer (nullable = true)\n",
      " |-- Crm_type_group: integer (nullable = true)\n",
      " |-- Vict Sex_index: double (nullable = false)\n",
      " |-- Vict Descent_index: double (nullable = false)\n",
      " |-- Premis Desc_index: double (nullable = false)\n",
      "\n"
     ]
    }
   ],
   "source": [
    "CDBase_indexed.printSchema()"
   ]
  },
  {
   "cell_type": "code",
   "execution_count": 33,
   "id": "dc7f21d8",
   "metadata": {},
   "outputs": [],
   "source": [
    "CDBase_new = CDBase_indexed[[\"Vict Sex_index\", \"Vict Descent_index\", \"Premis Desc_index\", \"AREA\", \"Crm Cd\", \"Vict Age\", \n",
    "    \"Weapon Used Cd\", \"LAT\", \"LON\", \"year\", \"month\", \"day\", \"hour\", \"Crm_type_group\"]]"
   ]
  },
  {
   "cell_type": "code",
   "execution_count": 34,
   "id": "63679eb9",
   "metadata": {},
   "outputs": [
    {
     "name": "stdout",
     "output_type": "stream",
     "text": [
      "+--------------+------------------+-----------------+----+------+--------+--------------+-------+---------+----+-----+---+----+--------------+\n",
      "|Vict Sex_index|Vict Descent_index|Premis Desc_index|AREA|Crm Cd|Vict Age|Weapon Used Cd|    LAT|      LON|year|month|day|hour|Crm_type_group|\n",
      "+--------------+------------------+-----------------+----+------+--------+--------------+-------+---------+----+-----+---+----+--------------+\n",
      "|           2.0|               1.0|              4.0|   5|   471|       0|         500.0|33.8592|-118.2899|2020|    3| 13|  17|             4|\n",
      "|           2.0|               1.0|            114.0|   1|   623|       0|         400.0|34.0488|-118.2518|2020|    1|  1|   9|             3|\n",
      "|           2.0|               1.0|            114.0|   1|   623|       0|         400.0|34.0488|-118.2518|2020|    1|  1|   9|             3|\n",
      "|           2.0|               1.0|            109.0|   1|   623|       0|         400.0|34.0515|-118.2424|2020|    1|  4|  23|             3|\n",
      "|           0.0|               0.0|              5.0|   1|   623|      48|         400.0|34.0452|-118.2534|2020|    1| 22|  17|             3|\n",
      "|           0.0|               0.0|              5.0|   1|   623|      40|         400.0|34.0481|-118.2542|2020|    2|  2|  11|             3|\n",
      "|           0.0|               2.0|              0.0|   1|   623|       0|         400.0|34.0454|-118.2333|2020|    2|  4|  11|             3|\n",
      "|           2.0|               1.0|              0.0|   2|   623|       0|         500.0|34.0548|-118.2638|2020|    3| 26|  19|             3|\n",
      "|           1.0|               0.0|             51.0|   1|   623|       0|         400.0|34.0563|-118.2374|2020|    3| 13|  15|             3|\n",
      "|           0.0|               0.0|              1.0|   2|   623|       0|         500.0| 34.064|-118.2766|2020|    2|  6|  13|             3|\n",
      "+--------------+------------------+-----------------+----+------+--------+--------------+-------+---------+----+-----+---+----+--------------+\n",
      "only showing top 10 rows\n",
      "\n"
     ]
    }
   ],
   "source": [
    "CDBase_new.show(10)"
   ]
  },
  {
   "cell_type": "code",
   "execution_count": 35,
   "id": "e6a402f0",
   "metadata": {},
   "outputs": [
    {
     "data": {
      "text/plain": [
       "['Vict Sex_index',\n",
       " 'Vict Descent_index',\n",
       " 'Premis Desc_index',\n",
       " 'AREA',\n",
       " 'Crm Cd',\n",
       " 'Vict Age',\n",
       " 'Weapon Used Cd',\n",
       " 'LAT',\n",
       " 'LON',\n",
       " 'year',\n",
       " 'month',\n",
       " 'day',\n",
       " 'hour',\n",
       " 'Crm_type_group']"
      ]
     },
     "execution_count": 35,
     "metadata": {},
     "output_type": "execute_result"
    }
   ],
   "source": [
    "input_columns = CDBase_new.columns\n",
    "input_columns"
   ]
  },
  {
   "cell_type": "code",
   "execution_count": 36,
   "id": "616be1b4",
   "metadata": {},
   "outputs": [
    {
     "data": {
      "text/plain": [
       "['Vict Sex_index',\n",
       " 'Vict Descent_index',\n",
       " 'Premis Desc_index',\n",
       " 'AREA',\n",
       " 'Crm Cd',\n",
       " 'Vict Age',\n",
       " 'Weapon Used Cd',\n",
       " 'LAT',\n",
       " 'LON',\n",
       " 'year',\n",
       " 'month',\n",
       " 'day',\n",
       " 'hour']"
      ]
     },
     "execution_count": 36,
     "metadata": {},
     "output_type": "execute_result"
    }
   ],
   "source": [
    "input_columns = input_columns[0:-1]\n",
    "input_columns"
   ]
  },
  {
   "cell_type": "code",
   "execution_count": 37,
   "id": "09c12c3b",
   "metadata": {},
   "outputs": [],
   "source": [
    "target_variable = \"Crm_type_group\""
   ]
  },
  {
   "cell_type": "code",
   "execution_count": 38,
   "id": "edcb398a",
   "metadata": {},
   "outputs": [],
   "source": [
    "rename = CDBase_new.withColumn(\"Crm_type_group\", CDBase_new[target_variable]) \n",
    "indexer = StringIndexer(inputCol=\"Crm_type_group\", outputCol=\"label\") #Pyspark is expecting the this naming convention \n",
    "CDBase_indexed = indexer.fit(rename).transform(rename)"
   ]
  },
  {
   "cell_type": "code",
   "execution_count": 39,
   "id": "9f964237",
   "metadata": {},
   "outputs": [
    {
     "name": "stdout",
     "output_type": "stream",
     "text": [
      "+--------------------+--------------+\n",
      "|            features|Crm_type_group|\n",
      "+--------------------+--------------+\n",
      "|[2.0,1.0,4.0,5.0,...|             4|\n",
      "|[2.0,1.0,114.0,1....|             3|\n",
      "|[2.0,1.0,114.0,1....|             3|\n",
      "|[2.0,1.0,109.0,1....|             3|\n",
      "|[0.0,0.0,5.0,1.0,...|             3|\n",
      "|[0.0,0.0,5.0,1.0,...|             3|\n",
      "|[0.0,2.0,0.0,1.0,...|             3|\n",
      "|[2.0,1.0,0.0,2.0,...|             3|\n",
      "|[1.0,0.0,51.0,1.0...|             3|\n",
      "|[0.0,0.0,1.0,2.0,...|             3|\n",
      "|[0.0,0.0,1.0,2.0,...|             3|\n",
      "|[2.0,1.0,0.0,2.0,...|             3|\n",
      "|[2.0,1.0,5.0,3.0,...|             3|\n",
      "|[0.0,3.0,39.0,3.0...|             3|\n",
      "|[2.0,1.0,0.0,3.0,...|             3|\n",
      "|[2.0,1.0,0.0,3.0,...|             3|\n",
      "|[2.0,1.0,39.0,3.0...|             3|\n",
      "|[0.0,0.0,1.0,4.0,...|             3|\n",
      "|[2.0,1.0,2.0,4.0,...|             3|\n",
      "|[0.0,0.0,2.0,4.0,...|             3|\n",
      "+--------------------+--------------+\n",
      "only showing top 20 rows\n",
      "\n"
     ]
    }
   ],
   "source": [
    "# select the columns to be used for the vector assembly\n",
    "input_cols = [\"Vict Sex_index\", \"Vict Descent_index\", \"Premis Desc_index\", \"AREA\", \"Crm Cd\", \"Vict Age\", \n",
    "    \"Weapon Used Cd\", \"LAT\", \"LON\", \"year\", \"month\", \"day\", \"hour\"]\n",
    "\n",
    "# create a VectorAssembler object with the input columns\n",
    "assembler = VectorAssembler(inputCols=input_cols, outputCol=\"features\")\n",
    "\n",
    "# transform the DataFrame using the VectorAssembler\n",
    "output_CDB = assembler.transform(CDBase_indexed).select([\"features\", \"Crm_type_group\"])\n",
    "\n",
    "# display the transformed DataFrame\n",
    "output_CDB.show()"
   ]
  },
  {
   "cell_type": "code",
   "execution_count": 40,
   "id": "ff296301",
   "metadata": {},
   "outputs": [
    {
     "name": "stdout",
     "output_type": "stream",
     "text": [
      "+--------------+------+\n",
      "|Crm_type_group| count|\n",
      "+--------------+------+\n",
      "|             1|380273|\n",
      "|             3| 48506|\n",
      "|             4| 20077|\n",
      "|             2| 46554|\n",
      "+--------------+------+\n",
      "\n"
     ]
    }
   ],
   "source": [
    "CDB_count = output_CDB.groupBy('Crm_type_group').count()\n",
    "CDB_count.show()"
   ]
  },
  {
   "cell_type": "code",
   "execution_count": 41,
   "id": "288d98e5",
   "metadata": {},
   "outputs": [],
   "source": [
    "from pyspark.sql.functions import col\n",
    "\n",
    "def undersample(df, column, majority_class, minority_class, ratio=1.0):\n",
    "    # Calculate the number of rows to be taken from the majority class\n",
    "    majority_class_count = df.filter(col(column) == majority_class).count()\n",
    "    minority_class_count = df.filter(col(column) == minority_class).count()\n",
    "    majority_sample_count = int(minority_class_count * ratio)\n",
    "\n",
    "    # Sample the majority class\n",
    "    majority_sampled_df = df.filter(col(column) == majority_class).sample(\n",
    "        withReplacement=False, fraction=majority_sample_count / majority_class_count, seed=42\n",
    "    )\n",
    "\n",
    "    # Combine the majority sampled data with the minority class data\n",
    "    minority_df = df.filter(col(column) == minority_class)\n",
    "    balanced_df = majority_sampled_df.union(minority_df)\n",
    "    \n",
    "    return balanced_df\n"
   ]
  },
  {
   "cell_type": "code",
   "execution_count": 42,
   "id": "a42f2b52",
   "metadata": {},
   "outputs": [
    {
     "name": "stdout",
     "output_type": "stream",
     "text": [
      "+--------------------+--------------+\n",
      "|            features|Crm_type_group|\n",
      "+--------------------+--------------+\n",
      "|[0.0,0.0,0.0,1.0,...|             1|\n",
      "|[0.0,3.0,5.0,1.0,...|             1|\n",
      "|[0.0,0.0,0.0,1.0,...|             1|\n",
      "|[1.0,0.0,2.0,2.0,...|             1|\n",
      "|[0.0,3.0,2.0,2.0,...|             1|\n",
      "|[1.0,0.0,122.0,2....|             1|\n",
      "|[0.0,2.0,3.0,2.0,...|             1|\n",
      "|[0.0,3.0,93.0,2.0...|             1|\n",
      "|[0.0,0.0,0.0,2.0,...|             1|\n",
      "|[1.0,3.0,0.0,3.0,...|             1|\n",
      "|[0.0,4.0,13.0,3.0...|             1|\n",
      "|[0.0,3.0,0.0,3.0,...|             1|\n",
      "|[0.0,0.0,5.0,3.0,...|             1|\n",
      "|[2.0,1.0,20.0,3.0...|             1|\n",
      "|[0.0,0.0,0.0,3.0,...|             1|\n",
      "|[1.0,3.0,136.0,3....|             1|\n",
      "|[0.0,0.0,16.0,2.0...|             1|\n",
      "|[1.0,5.0,5.0,1.0,...|             1|\n",
      "|[1.0,0.0,5.0,4.0,...|             1|\n",
      "|[0.0,0.0,0.0,2.0,...|             1|\n",
      "+--------------------+--------------+\n",
      "only showing top 20 rows\n",
      "\n"
     ]
    }
   ],
   "source": [
    "balanced_df = undersample(output_CDB, \"Crm_type_group\", 1, 2, ratio=1.0)\n",
    "balanced_df.show()\n"
   ]
  },
  {
   "cell_type": "code",
   "execution_count": 43,
   "id": "a5fec623",
   "metadata": {},
   "outputs": [
    {
     "name": "stdout",
     "output_type": "stream",
     "text": [
      "+--------------+-----+\n",
      "|Crm_type_group|count|\n",
      "+--------------+-----+\n",
      "|             1|46601|\n",
      "|             2|46554|\n",
      "+--------------+-----+\n",
      "\n"
     ]
    }
   ],
   "source": [
    "# You can adjust the ratio to control the balance between the classes\n",
    "# Group by column and count occurrences\n",
    "balanced_df = balanced_df.groupBy('Crm_type_group').agg(count('Crm_type_group').alias(\"count\"))\n",
    "\n",
    "# Show the resulting balanced DataFrame\n",
    "balanced_df.show()"
   ]
  },
  {
   "cell_type": "code",
   "execution_count": 44,
   "id": "43dd3e14",
   "metadata": {},
   "outputs": [
    {
     "name": "stdout",
     "output_type": "stream",
     "text": [
      "+--------------------+--------------+\n",
      "|            features|Crm_type_group|\n",
      "+--------------------+--------------+\n",
      "|[0.0,0.0,5.0,1.0,...|             3|\n",
      "|[1.0,0.0,51.0,1.0...|             3|\n",
      "|[0.0,3.0,39.0,3.0...|             3|\n",
      "|[0.0,0.0,1.0,4.0,...|             3|\n",
      "|[0.0,0.0,2.0,4.0,...|             3|\n",
      "|[1.0,2.0,39.0,2.0...|             3|\n",
      "|[0.0,0.0,51.0,1.0...|             3|\n",
      "|[2.0,1.0,39.0,2.0...|             3|\n",
      "|[2.0,1.0,0.0,5.0,...|             3|\n",
      "|[2.0,1.0,0.0,1.0,...|             3|\n",
      "|[0.0,2.0,0.0,1.0,...|             3|\n",
      "|[2.0,1.0,16.0,2.0...|             3|\n",
      "|[1.0,0.0,109.0,1....|             3|\n",
      "|[2.0,1.0,177.0,3....|             3|\n",
      "|[0.0,0.0,109.0,1....|             3|\n",
      "|[0.0,2.0,0.0,1.0,...|             3|\n",
      "|[2.0,1.0,39.0,3.0...|             3|\n",
      "|[0.0,2.0,92.0,1.0...|             3|\n",
      "|[2.0,1.0,0.0,3.0,...|             3|\n",
      "|[0.0,0.0,92.0,1.0...|             3|\n",
      "+--------------------+--------------+\n",
      "only showing top 20 rows\n",
      "\n"
     ]
    }
   ],
   "source": [
    "balanced_df2 = undersample(output_CDB, \"Crm_type_group\", 3, 4, ratio=1.0)\n",
    "balanced_df2.show()\n"
   ]
  },
  {
   "cell_type": "code",
   "execution_count": 45,
   "id": "f6ffc57b",
   "metadata": {
    "scrolled": true
   },
   "outputs": [
    {
     "name": "stdout",
     "output_type": "stream",
     "text": [
      "+--------------+-----+\n",
      "|Crm_type_group|count|\n",
      "+--------------+-----+\n",
      "|             3|20125|\n",
      "|             4|20077|\n",
      "+--------------+-----+\n",
      "\n"
     ]
    }
   ],
   "source": [
    "balanced_df2 = balanced_df2.groupBy('Crm_type_group').agg(count('Crm_type_group').alias(\"count\"))\n",
    "\n",
    "# Show the resulting balanced DataFrame\n",
    "balanced_df2.show()"
   ]
  },
  {
   "cell_type": "code",
   "execution_count": 46,
   "id": "bb73916b",
   "metadata": {},
   "outputs": [
    {
     "name": "stdout",
     "output_type": "stream",
     "text": [
      "+--------------+-----+\n",
      "|Crm_type_group|count|\n",
      "+--------------+-----+\n",
      "|             1|46601|\n",
      "|             2|46554|\n",
      "|             3|20125|\n",
      "|             4|20077|\n",
      "+--------------+-----+\n",
      "\n"
     ]
    }
   ],
   "source": [
    "balanced_df_final = balanced_df.union(balanced_df2)\n",
    "balanced_df_final.show()\n"
   ]
  },
  {
   "cell_type": "code",
   "execution_count": 47,
   "id": "83e7d10d",
   "metadata": {},
   "outputs": [
    {
     "name": "stdout",
     "output_type": "stream",
     "text": [
      "root\n",
      " |-- features: vector (nullable = true)\n",
      " |-- Crm_type_group: integer (nullable = true)\n",
      "\n"
     ]
    }
   ],
   "source": [
    "output_CDB.printSchema()"
   ]
  },
  {
   "cell_type": "code",
   "execution_count": 48,
   "id": "421eb660",
   "metadata": {},
   "outputs": [],
   "source": [
    "# Now create your final features list\n",
    "features_list = input_cols\n",
    "# Create your vector assembler object\n",
    "assembler = VectorAssembler(inputCols=features_list,outputCol='features')\n",
    "# And call on the vector assembler to transform your dataframe\n",
    "output = assembler.transform(CDBase_indexed).select('features','label')"
   ]
  },
  {
   "cell_type": "code",
   "execution_count": 49,
   "id": "e8ee7d93",
   "metadata": {},
   "outputs": [
    {
     "name": "stdout",
     "output_type": "stream",
     "text": [
      "+--------------------+-----+\n",
      "|            features|label|\n",
      "+--------------------+-----+\n",
      "|[2.0,1.0,4.0,5.0,...|  3.0|\n",
      "|[2.0,1.0,114.0,1....|  1.0|\n",
      "|[2.0,1.0,114.0,1....|  1.0|\n",
      "|[2.0,1.0,109.0,1....|  1.0|\n",
      "|[0.0,0.0,5.0,1.0,...|  1.0|\n",
      "|[0.0,0.0,5.0,1.0,...|  1.0|\n",
      "|[0.0,2.0,0.0,1.0,...|  1.0|\n",
      "|[2.0,1.0,0.0,2.0,...|  1.0|\n",
      "|[1.0,0.0,51.0,1.0...|  1.0|\n",
      "|[0.0,0.0,1.0,2.0,...|  1.0|\n",
      "|[0.0,0.0,1.0,2.0,...|  1.0|\n",
      "|[2.0,1.0,0.0,2.0,...|  1.0|\n",
      "|[2.0,1.0,5.0,3.0,...|  1.0|\n",
      "|[0.0,3.0,39.0,3.0...|  1.0|\n",
      "|[2.0,1.0,0.0,3.0,...|  1.0|\n",
      "|[2.0,1.0,0.0,3.0,...|  1.0|\n",
      "|[2.0,1.0,39.0,3.0...|  1.0|\n",
      "|[0.0,0.0,1.0,4.0,...|  1.0|\n",
      "|[2.0,1.0,2.0,4.0,...|  1.0|\n",
      "|[0.0,0.0,2.0,4.0,...|  1.0|\n",
      "+--------------------+-----+\n",
      "only showing top 20 rows\n",
      "\n"
     ]
    }
   ],
   "source": [
    "output.show()"
   ]
  },
  {
   "cell_type": "code",
   "execution_count": 50,
   "id": "81db2272",
   "metadata": {},
   "outputs": [],
   "source": [
    "# Replace \"input_features\" with a list of your feature column names.\n",
    "vector_assembler = VectorAssembler(inputCols=input_cols, outputCol=\"unscaled_features\")\n",
    "# Before we correct for negative values that may have been found above, \n",
    "# We need to vectorize our df\n",
    "# because the function that we use to make that correction requires a vector. \n",
    "# Now create your final features list\n",
    "features_list = input_cols\n",
    "# Create your vector assembler object\n",
    "assembler = VectorAssembler(inputCols=features_list,outputCol='features')\n",
    "# And call on the vector assembler to transform your dataframe\n",
    "output = assembler.transform(CDBase_indexed).select('features','label')\n"
   ]
  },
  {
   "cell_type": "code",
   "execution_count": 51,
   "id": "808402f1",
   "metadata": {},
   "outputs": [
    {
     "name": "stdout",
     "output_type": "stream",
     "text": [
      "scale range: [0.000000, 1.000000]\n"
     ]
    }
   ],
   "source": [
    "scaler = MinMaxScaler(inputCol=\"features\", outputCol=\"scaled_features\")\n",
    "print(\"scale range: [%f, %f]\" % (scaler.getMin(), scaler.getMax()))"
   ]
  },
  {
   "cell_type": "code",
   "execution_count": 52,
   "id": "7b470a36",
   "metadata": {},
   "outputs": [
    {
     "name": "stdout",
     "output_type": "stream",
     "text": [
      "+--------------------+-----+--------------------+\n",
      "|            features|label|     scaled_features|\n",
      "+--------------------+-----+--------------------+\n",
      "|[2.0,1.0,4.0,5.0,...|  3.0|[0.66666666666666...|\n",
      "|[2.0,1.0,114.0,1....|  1.0|[0.66666666666666...|\n",
      "|[2.0,1.0,114.0,1....|  1.0|[0.66666666666666...|\n",
      "|[2.0,1.0,109.0,1....|  1.0|[0.66666666666666...|\n",
      "|[0.0,0.0,5.0,1.0,...|  1.0|[0.0,0.0,0.016339...|\n",
      "|[0.0,0.0,5.0,1.0,...|  1.0|[0.0,0.0,0.016339...|\n",
      "|[0.0,2.0,0.0,1.0,...|  1.0|[0.0,0.1111111111...|\n",
      "|[2.0,1.0,0.0,2.0,...|  1.0|[0.66666666666666...|\n",
      "|[1.0,0.0,51.0,1.0...|  1.0|[0.33333333333333...|\n",
      "|[0.0,0.0,1.0,2.0,...|  1.0|[0.0,0.0,0.003267...|\n",
      "|[0.0,0.0,1.0,2.0,...|  1.0|[0.0,0.0,0.003267...|\n",
      "|[2.0,1.0,0.0,2.0,...|  1.0|[0.66666666666666...|\n",
      "|[2.0,1.0,5.0,3.0,...|  1.0|[0.66666666666666...|\n",
      "|[0.0,3.0,39.0,3.0...|  1.0|[0.0,0.1666666666...|\n",
      "|[2.0,1.0,0.0,3.0,...|  1.0|[0.66666666666666...|\n",
      "|[2.0,1.0,0.0,3.0,...|  1.0|[0.66666666666666...|\n",
      "|[2.0,1.0,39.0,3.0...|  1.0|[0.66666666666666...|\n",
      "|[0.0,0.0,1.0,4.0,...|  1.0|[0.0,0.0,0.003267...|\n",
      "|[2.0,1.0,2.0,4.0,...|  1.0|[0.66666666666666...|\n",
      "|[0.0,0.0,2.0,4.0,...|  1.0|[0.0,0.0,0.006535...|\n",
      "+--------------------+-----+--------------------+\n",
      "only showing top 20 rows\n",
      "\n"
     ]
    }
   ],
   "source": [
    "scaleMod = scaler.fit(output, params=None)\n",
    "# we now rescale to range[min, max]\n",
    "ScaleCCDB = scaleMod.transform(output)\n",
    "ScaleCCDB.show()"
   ]
  },
  {
   "cell_type": "code",
   "execution_count": 53,
   "id": "54e5778b",
   "metadata": {},
   "outputs": [
    {
     "name": "stdout",
     "output_type": "stream",
     "text": [
      "+-----+--------------------+\n",
      "|label|            features|\n",
      "+-----+--------------------+\n",
      "|  3.0|[0.66666666666666...|\n",
      "|  1.0|[0.66666666666666...|\n",
      "|  1.0|[0.66666666666666...|\n",
      "|  1.0|[0.66666666666666...|\n",
      "|  1.0|[0.0,0.0,0.016339...|\n",
      "|  1.0|[0.0,0.0,0.016339...|\n",
      "|  1.0|[0.0,0.1111111111...|\n",
      "|  1.0|[0.66666666666666...|\n",
      "|  1.0|[0.33333333333333...|\n",
      "|  1.0|[0.0,0.0,0.003267...|\n",
      "|  1.0|[0.0,0.0,0.003267...|\n",
      "|  1.0|[0.66666666666666...|\n",
      "|  1.0|[0.66666666666666...|\n",
      "|  1.0|[0.0,0.1666666666...|\n",
      "|  1.0|[0.66666666666666...|\n",
      "|  1.0|[0.66666666666666...|\n",
      "|  1.0|[0.66666666666666...|\n",
      "|  1.0|[0.0,0.0,0.003267...|\n",
      "|  1.0|[0.66666666666666...|\n",
      "|  1.0|[0.0,0.0,0.006535...|\n",
      "+-----+--------------------+\n",
      "only showing top 20 rows\n",
      "\n"
     ]
    }
   ],
   "source": [
    "OUTPUT = ScaleCCDB.select('label', 'scaled_features')\n",
    "OUTPUT = OUTPUT.withColumnRenamed(\"scaled_features\", \"features\")\n",
    "OUTPUT.show()"
   ]
  },
  {
   "cell_type": "code",
   "execution_count": 54,
   "id": "deb19469",
   "metadata": {},
   "outputs": [
    {
     "name": "stdout",
     "output_type": "stream",
     "text": [
      "+-------+-------------------+\n",
      "|summary|              label|\n",
      "+-------+-------------------+\n",
      "|  count|             347476|\n",
      "|   mean|0.40769434435759594|\n",
      "| stddev| 0.8202073906978963|\n",
      "|    min|                0.0|\n",
      "|    max|                3.0|\n",
      "+-------+-------------------+\n",
      "\n",
      "+-------+-------------------+\n",
      "|summary|              label|\n",
      "+-------+-------------------+\n",
      "|  count|             147934|\n",
      "|   mean|0.40680979355658603|\n",
      "| stddev| 0.8197799904364722|\n",
      "|    min|                0.0|\n",
      "|    max|                3.0|\n",
      "+-------+-------------------+\n",
      "\n"
     ]
    }
   ],
   "source": [
    "# scaled train-test\n",
    "train_data, test_data = OUTPUT.randomSplit([0.7, 0.3], seed=42)\n",
    "train_data.describe().show()\n",
    "test_data.describe().show()"
   ]
  },
  {
   "cell_type": "code",
   "execution_count": null,
   "id": "7ff3f069",
   "metadata": {},
   "outputs": [],
   "source": []
  },
  {
   "cell_type": "markdown",
   "id": "3be1d9b7",
   "metadata": {},
   "source": [
    "our class labels have been identified as multiclass therefore we are restricted to a certain algorithms to create our models. also, hence the inclusion of the minmax scaler preprocessing technique applied."
   ]
  },
  {
   "cell_type": "markdown",
   "id": "e0722565",
   "metadata": {},
   "source": [
    "## TRAINING THE MODEL"
   ]
  },
  {
   "cell_type": "markdown",
   "id": "9d171c5f",
   "metadata": {},
   "source": [
    "#### Logistic Regression"
   ]
  },
  {
   "cell_type": "code",
   "execution_count": 55,
   "id": "44ce6efa",
   "metadata": {},
   "outputs": [],
   "source": [
    "from pyspark.ml.evaluation import MulticlassClassificationEvaluator\n",
    "from pyspark.mllib.evaluation import MulticlassMetrics\n",
    "from pyspark.ml.classification import LogisticRegression\n",
    "from pyspark.sql.types import FloatType\n",
    "\n"
   ]
  },
  {
   "cell_type": "code",
   "execution_count": 56,
   "id": "a12b82f1",
   "metadata": {
    "scrolled": false
   },
   "outputs": [
    {
     "name": "stdout",
     "output_type": "stream",
     "text": [
      "Accuracy: 78.37211188773372\n",
      "Precision: 0.7152571107427438\n",
      "Recall: 0.7837211188773372\n",
      "F1-score: 0.7040274413105562\n"
     ]
    }
   ],
   "source": [
    "LR = LogisticRegression()\n",
    "LR_model = LR.fit(train_data)\n",
    "\n",
    "predictionsLR = LR_model.transform(test_data)\n",
    "\n",
    "MC_evaluator = MulticlassClassificationEvaluator(metricName=\"accuracy\") \n",
    "accuracy = (MC_evaluator.evaluate(predictionsLR))*100\n",
    "\n",
    "MC_evaluator.setMetricName(\"weightedPrecision\")\n",
    "precision = MC_evaluator.evaluate(predictionsLR)\n",
    "\n",
    "MC_evaluator.setMetricName(\"weightedRecall\")\n",
    "recall = MC_evaluator.evaluate(predictionsLR)\n",
    "\n",
    "MC_evaluator.setMetricName(\"f1\")\n",
    "f1 = MC_evaluator.evaluate(predictionsLR)\n",
    "\n",
    "print(\"Accuracy:\", accuracy)\n",
    "print(\"Precision:\", precision)\n",
    "print(\"Recall:\", recall)\n",
    "print(\"F1-score:\", f1)"
   ]
  },
  {
   "cell_type": "code",
   "execution_count": 60,
   "id": "658c727b",
   "metadata": {},
   "outputs": [
    {
     "name": "stdout",
     "output_type": "stream",
     "text": [
      "Confusion Matrix:\n",
      " [[1.13426e+05 2.00000e+00 1.89000e+02 0.00000e+00]\n",
      " [1.26850e+04 1.90000e+01 1.74400e+03 0.00000e+00]\n",
      " [1.13700e+04 1.00000e+01 2.49400e+03 0.00000e+00]\n",
      " [5.58400e+03 1.00000e+00 4.10000e+02 0.00000e+00]]\n"
     ]
    }
   ],
   "source": [
    "# Convert DataFrame columns to float\n",
    "predictionsLR = predictionsLR.withColumn(\"label\", F.col(\"label\").cast(FloatType()))\n",
    "predictionsLR = predictionsLR.withColumn(\"prediction\", F.col(\"prediction\").cast(FloatType()))\n",
    "\n",
    "# Compute the confusion matrix\n",
    "metrics = MulticlassMetrics(predictionsLR.select(\"prediction\", \"label\").rdd.map(tuple))\n",
    "confusion_matrix = metrics.confusionMatrix().toArray()\n",
    "print(\"Confusion Matrix:\\n\", confusion_matrix)\n"
   ]
  },
  {
   "cell_type": "code",
   "execution_count": 61,
   "id": "d83e0810",
   "metadata": {},
   "outputs": [
    {
     "name": "stdout",
     "output_type": "stream",
     "text": [
      "Class 0 - Precision: 79.28284346276168, Recall: 99.83189135428677, F1-score: 88.37861634240033\n",
      "Class 1 - Precision: 59.375, Recall: 0.13150609080841638, F1-score: 0.26243093922651933\n",
      "Class 2 - Precision: 51.56088484597892, Recall: 17.976070347412428, F1-score: 26.658115547004435\n",
      "Class 3 - Precision: nan, Recall: 0.0, F1-score: nan\n"
     ]
    },
    {
     "name": "stderr",
     "output_type": "stream",
     "text": [
      "C:\\Users\\elect\\AppData\\Local\\Temp\\ipykernel_3960\\3364147657.py:10: RuntimeWarning: invalid value encountered in double_scalars\n",
      "  precision = tp / (tp + fp)*100\n"
     ]
    }
   ],
   "source": [
    "import numpy as np\n",
    "\n",
    "num_classes = len(confusion_matrix)\n",
    "for i in range(num_classes):\n",
    "    tp = confusion_matrix[i][i]\n",
    "    fn = np.sum(confusion_matrix[i, :]) - tp\n",
    "    fp = np.sum(confusion_matrix[:, i]) - tp\n",
    "    tn = np.sum(confusion_matrix) - tp - fn - fp\n",
    "\n",
    "    precision = tp / (tp + fp)*100\n",
    "    recall = tp / (tp + fn)*100\n",
    "    f1_score = 2 * (precision * recall) / (precision + recall)\n",
    "\n",
    "    print(f\"Class {i} - Precision: {precision}, Recall: {recall}, F1-score: {f1_score}\")\n"
   ]
  },
  {
   "cell_type": "code",
   "execution_count": null,
   "id": "60548ef6",
   "metadata": {},
   "outputs": [],
   "source": []
  },
  {
   "cell_type": "markdown",
   "id": "fc34c822",
   "metadata": {},
   "source": [
    "### Decision Tree Classifier"
   ]
  },
  {
   "cell_type": "code",
   "execution_count": 62,
   "id": "e8929891",
   "metadata": {
    "scrolled": false
   },
   "outputs": [
    {
     "name": "stdout",
     "output_type": "stream",
     "text": [
      "Accuracy: 0.911886381764841\n",
      "Precision: 0.9137783623715694\n",
      "Recall: 0.911886381764841\n",
      "F1-score: 0.9011481728743134\n"
     ]
    }
   ],
   "source": [
    "from pyspark.ml import Pipeline\n",
    "from pyspark.ml.classification import DecisionTreeClassifier\n",
    "from pyspark.ml.evaluation import MulticlassClassificationEvaluator\n",
    "from pyspark.ml.tuning import CrossValidator, ParamGridBuilder\n",
    "\n",
    "\n",
    "# Create the model\n",
    "dt = DecisionTreeClassifier(maxBins=35000)\n",
    "# Train the model\n",
    "dt_model = dt.fit(train_data)\n",
    "\n",
    "predictionsDT = dt_model.transform(test_data)\n",
    "\n",
    "evaluator = MulticlassClassificationEvaluator(metricName=\"accuracy\")\n",
    "accuracy = evaluator.evaluate(predictionsDT)\n",
    "\n",
    "evaluator.setMetricName(\"weightedPrecision\")\n",
    "precision = evaluator.evaluate(predictionsDT)\n",
    "\n",
    "evaluator.setMetricName(\"weightedRecall\")\n",
    "recall = evaluator.evaluate(predictionsDT)\n",
    "\n",
    "evaluator.setMetricName(\"f1\")\n",
    "f1 = evaluator.evaluate(predictionsDT)\n",
    "\n",
    "print(\"Accuracy:\", accuracy)\n",
    "print(\"Precision:\", precision)\n",
    "print(\"Recall:\", recall)\n",
    "print(\"F1-score:\", f1)\n",
    "\n"
   ]
  },
  {
   "cell_type": "code",
   "execution_count": 63,
   "id": "28a4c669",
   "metadata": {},
   "outputs": [
    {
     "name": "stdout",
     "output_type": "stream",
     "text": [
      "Confusion Matrix:\n",
      " [[1.13426e+05 2.00000e+00 1.89000e+02 0.00000e+00]\n",
      " [1.26850e+04 1.90000e+01 1.74400e+03 0.00000e+00]\n",
      " [1.13700e+04 1.00000e+01 2.49400e+03 0.00000e+00]\n",
      " [5.58400e+03 1.00000e+00 4.10000e+02 0.00000e+00]]\n"
     ]
    }
   ],
   "source": [
    "# Convert DataFrame columns to float\n",
    "predictionsDT = predictionsDT.withColumn(\"label\", F.col(\"label\").cast(FloatType()))\n",
    "predictionsDT = predictionsDT.withColumn(\"prediction\", F.col(\"prediction\").cast(FloatType()))\n",
    "\n",
    "# Compute the confusion matrix\n",
    "metrics = MulticlassMetrics(predictionsDT.select(\"prediction\", \"label\").rdd.map(tuple))\n",
    "DTconfusion_matrix = metrics.confusionMatrix().toArray()\n",
    "print(\"Confusion Matrix:\\n\", confusion_matrix)\n"
   ]
  },
  {
   "cell_type": "code",
   "execution_count": 64,
   "id": "a2cf37a5",
   "metadata": {},
   "outputs": [
    {
     "name": "stdout",
     "output_type": "stream",
     "text": [
      "Class 0 - Precision: 92.47981376570945, Recall: 100.0, F1-score: 96.09300004651695\n",
      "Class 1 - Precision: 91.29789864029667, Recall: 51.12126245847176, F1-score: 65.54263909841158\n",
      "Class 2 - Precision: 78.71109887083449, Recall: 82.39873144010379, F1-score: 80.51271216282838\n",
      "Class 3 - Precision: 100.0, Recall: 41.10091743119266, F1-score: 58.25747724317296\n"
     ]
    }
   ],
   "source": [
    "import numpy as np\n",
    "\n",
    "num_classes = len(DTconfusion_matrix)\n",
    "for i in range(num_classes):\n",
    "    tp = DTconfusion_matrix[i][i]\n",
    "    fn = np.sum(DTconfusion_matrix[i, :]) - tp\n",
    "    fp = np.sum(DTconfusion_matrix[:, i]) - tp\n",
    "    tn = np.sum(DTconfusion_matrix) - tp - fn - fp\n",
    "\n",
    "    precision = tp / (tp + fp)*100\n",
    "    recall = tp / (tp + fn)*100\n",
    "    f1_score = 2 * (precision * recall) / (precision + recall)\n",
    "\n",
    "    print(f\"Class {i} - Precision: {precision}, Recall: {recall}, F1-score: {f1_score}\")"
   ]
  },
  {
   "cell_type": "markdown",
   "id": "c27cb9f0",
   "metadata": {},
   "source": [
    "## Naive Bayes"
   ]
  },
  {
   "cell_type": "code",
   "execution_count": 65,
   "id": "921f4af4",
   "metadata": {},
   "outputs": [],
   "source": [
    "from pyspark.ml.classification import NaiveBayes\n",
    "\n",
    "nb = NaiveBayes()\n",
    "nb_model = nb.fit(train_data)\n"
   ]
  },
  {
   "cell_type": "code",
   "execution_count": 66,
   "id": "9620d40c",
   "metadata": {},
   "outputs": [
    {
     "name": "stdout",
     "output_type": "stream",
     "text": [
      "Accuracy: 0.7680249300363675\n",
      "Precision: 0.5898622931573673\n",
      "Recall: 0.7680249300363675\n",
      "F1-score: 0.667255628737355\n"
     ]
    }
   ],
   "source": [
    "predictionsNB = nb_model.transform(test_data)\n",
    "\n",
    "evaluator = MulticlassClassificationEvaluator(metricName=\"accuracy\")\n",
    "accuracy = evaluator.evaluate(predictionsNB)\n",
    "\n",
    "evaluator.setMetricName(\"weightedPrecision\")\n",
    "precision = evaluator.evaluate(predictionsNB)\n",
    "\n",
    "evaluator.setMetricName(\"weightedRecall\")\n",
    "recall = evaluator.evaluate(predictionsNB)\n",
    "\n",
    "evaluator.setMetricName(\"f1\")\n",
    "f1 = evaluator.evaluate(predictionsNB)\n",
    "\n",
    "print(\"Accuracy:\", accuracy)\n",
    "print(\"Precision:\", precision)\n",
    "print(\"Recall:\", recall)\n",
    "print(\"F1-score:\", f1)"
   ]
  },
  {
   "cell_type": "code",
   "execution_count": 67,
   "id": "ac4b1805",
   "metadata": {},
   "outputs": [
    {
     "name": "stdout",
     "output_type": "stream",
     "text": [
      "Confusion Matrix:\n",
      " [[1.13426e+05 2.00000e+00 1.89000e+02 0.00000e+00]\n",
      " [1.26850e+04 1.90000e+01 1.74400e+03 0.00000e+00]\n",
      " [1.13700e+04 1.00000e+01 2.49400e+03 0.00000e+00]\n",
      " [5.58400e+03 1.00000e+00 4.10000e+02 0.00000e+00]]\n"
     ]
    }
   ],
   "source": [
    "# Convert DataFrame columns to float\n",
    "predictionsNB = predictionsNB.withColumn(\"label\", F.col(\"label\").cast(FloatType()))\n",
    "predictionsNB = predictionsNB.withColumn(\"prediction\", F.col(\"prediction\").cast(FloatType()))\n",
    "\n",
    "# Compute the confusion matrix\n",
    "metrics = MulticlassMetrics(predictionsNB.select(\"prediction\", \"label\").rdd.map(tuple))\n",
    "NBconfusion_matrix = metrics.confusionMatrix().toArray()\n",
    "print(\"Confusion Matrix:\\n\", confusion_matrix)\n"
   ]
  },
  {
   "cell_type": "code",
   "execution_count": 68,
   "id": "baa7e9d1",
   "metadata": {
    "scrolled": true
   },
   "outputs": [
    {
     "name": "stdout",
     "output_type": "stream",
     "text": [
      "Class 0 - Precision: 76.80249300363676, Recall: 100.0, F1-score: 86.87942313353801\n",
      "Class 1 - Precision: nan, Recall: 0.0, F1-score: nan\n",
      "Class 2 - Precision: nan, Recall: 0.0, F1-score: nan\n",
      "Class 3 - Precision: nan, Recall: 0.0, F1-score: nan\n"
     ]
    },
    {
     "name": "stderr",
     "output_type": "stream",
     "text": [
      "C:\\Users\\elect\\AppData\\Local\\Temp\\ipykernel_3960\\4021870359.py:10: RuntimeWarning: invalid value encountered in double_scalars\n",
      "  precision = tp / (tp + fp)*100\n"
     ]
    }
   ],
   "source": [
    "import numpy as np\n",
    "\n",
    "num_classes = len(NBconfusion_matrix)\n",
    "for i in range(num_classes):\n",
    "    tp = NBconfusion_matrix[i][i]\n",
    "    fn = np.sum(NBconfusion_matrix[i, :]) - tp\n",
    "    fp = np.sum(NBconfusion_matrix[:, i]) - tp\n",
    "    tn = np.sum(NBconfusion_matrix) - tp - fn - fp\n",
    "\n",
    "    precision = tp / (tp + fp)*100\n",
    "    recall = tp / (tp + fn)*100\n",
    "    f1_score = 2 * (precision * recall) / (precision + recall)\n",
    "\n",
    "    print(f\"Class {i} - Precision: {precision}, Recall: {recall}, F1-score: {f1_score}\")"
   ]
  },
  {
   "cell_type": "markdown",
   "id": "785ca396",
   "metadata": {},
   "source": [
    "### Random Forest Classifier"
   ]
  },
  {
   "cell_type": "code",
   "execution_count": 72,
   "id": "b0bd9b4d",
   "metadata": {},
   "outputs": [
    {
     "name": "stdout",
     "output_type": "stream",
     "text": [
      "Accuracy: 0.8558816769640515\n",
      "Precision: 0.8511710919474837\n",
      "Recall: 0.8558816769640515\n",
      "F1-score: 0.821697289010639\n"
     ]
    }
   ],
   "source": [
    "from pyspark.ml.classification import RandomForestClassifier\n",
    "# Create the model\n",
    "rf = RandomForestClassifier()\n",
    "RF_model = rf.fit(train_data)\n",
    "\n",
    "predictionsRF = RF_model.transform(test_data)\n",
    "\n",
    "evaluator = MulticlassClassificationEvaluator(metricName=\"accuracy\")\n",
    "accuracy = evaluator.evaluate(predictionsRF)\n",
    "\n",
    "evaluator.setMetricName(\"weightedPrecision\")\n",
    "precision = evaluator.evaluate(predictionsRF)\n",
    "\n",
    "evaluator.setMetricName(\"weightedRecall\")\n",
    "recall = evaluator.evaluate(predictionsRF)\n",
    "\n",
    "evaluator.setMetricName(\"f1\")\n",
    "f1 = evaluator.evaluate(predictionsRF)\n",
    "\n",
    "print(\"Accuracy:\", accuracy)\n",
    "print(\"Precision:\", precision)\n",
    "print(\"Recall:\", recall)\n",
    "print(\"F1-score:\", f1)"
   ]
  },
  {
   "cell_type": "code",
   "execution_count": 70,
   "id": "d1fbf17c",
   "metadata": {},
   "outputs": [
    {
     "name": "stdout",
     "output_type": "stream",
     "text": [
      "Confusion Matrix:\n",
      " [[1.13426e+05 2.00000e+00 1.89000e+02 0.00000e+00]\n",
      " [1.26850e+04 1.90000e+01 1.74400e+03 0.00000e+00]\n",
      " [1.13700e+04 1.00000e+01 2.49400e+03 0.00000e+00]\n",
      " [5.58400e+03 1.00000e+00 4.10000e+02 0.00000e+00]]\n"
     ]
    }
   ],
   "source": [
    "# Convert DataFrame columns to float\n",
    "predictionsRF = predictionsRF.withColumn(\"label\", F.col(\"label\").cast(FloatType()))\n",
    "predictionsRF = predictionsRF.withColumn(\"prediction\", F.col(\"prediction\").cast(FloatType()))\n",
    "\n",
    "# Compute the confusion matrix\n",
    "metrics = MulticlassMetrics(predictionsRF.select(\"prediction\", \"label\").rdd.map(tuple))\n",
    "RFconfusion_matrix = metrics.confusionMatrix().toArray()\n",
    "print(\"Confusion Matrix:\\n\", confusion_matrix)"
   ]
  },
  {
   "cell_type": "code",
   "execution_count": 71,
   "id": "fe24ddb2",
   "metadata": {},
   "outputs": [
    {
     "name": "stdout",
     "output_type": "stream",
     "text": [
      "Class 0 - Precision: 87.45083550773161, Recall: 100.0, F1-score: 93.30535686422652\n",
      "Class 1 - Precision: 81.58038147138964, Recall: 20.72259136212625, F1-score: 33.050005519373\n",
      "Class 2 - Precision: 68.44855905629387, Recall: 66.08043822978232, F1-score: 67.24365556696493\n",
      "Class 3 - Precision: 87.98735511064278, Recall: 13.928273561301086, F1-score: 24.049539170506918\n"
     ]
    }
   ],
   "source": [
    "num_classes = len(RFconfusion_matrix)\n",
    "for i in range(num_classes):\n",
    "    tp = RFconfusion_matrix[i][i]\n",
    "    fn = np.sum(RFconfusion_matrix[i, :]) - tp\n",
    "    fp = np.sum(RFconfusion_matrix[:, i]) - tp\n",
    "    tn = np.sum(RFconfusion_matrix) - tp - fn - fp\n",
    "\n",
    "    precision = tp / (tp + fp)*100\n",
    "    recall = tp / (tp + fn)*100\n",
    "    f1_score = 2 * (precision * recall) / (precision + recall)\n",
    "\n",
    "    print(f\"Class {i} - Precision: {precision}, Recall: {recall}, F1-score: {f1_score}\")"
   ]
  },
  {
   "cell_type": "markdown",
   "id": "9f5ce7f6",
   "metadata": {},
   "source": [
    "save in csv file format to visuale results on tableau and make analysis"
   ]
  },
  {
   "cell_type": "code",
   "execution_count": null,
   "id": "4ab761c5",
   "metadata": {},
   "outputs": [],
   "source": [
    "import csv\n",
    "\n",
    "header = ['Model', 'Accuracy', 'Weighted Precision', 'Weighted Recall', 'F1 Score']\n",
    "results = [\n",
    "    ['Logistic Regression', 0.7837211188773372, 0.7152571107427438, 0.7837211188773372, 0.7040274413105562],\n",
    "    ['Decision Tree', 0.911886381764841, 0.9137783623715694, 0.911886381764841, 0.9011481728743134],\n",
    "    ['Naive Bayes', 0.7680249300363675, 0.5898622931573673, 0.7680249300363675, 0.667255628737355],\n",
    "    ['Random Forest Classifier', 0.8521367636919167, 0.8429959372749076, 0.8521367636919166, 0.8151786907872403]\n",
    "]\n",
    "\n",
    "with open('Models_Comparison.csv', 'w', newline='') as csvfile:\n",
    "    writer = csv.writer(csvfile)\n",
    "    writer.writerow(header)\n",
    "    writer.writerows(results)\n",
    "\n",
    "# this is for only the results of models that hyperparameter tuning were applied to"
   ]
  },
  {
   "cell_type": "code",
   "execution_count": null,
   "id": "2b64f79d",
   "metadata": {},
   "outputs": [],
   "source": []
  },
  {
   "cell_type": "code",
   "execution_count": null,
   "id": "eb1cf88a",
   "metadata": {},
   "outputs": [],
   "source": []
  },
  {
   "cell_type": "code",
   "execution_count": null,
   "id": "5b655352",
   "metadata": {},
   "outputs": [],
   "source": []
  },
  {
   "cell_type": "code",
   "execution_count": null,
   "id": "501405c1",
   "metadata": {},
   "outputs": [],
   "source": []
  },
  {
   "cell_type": "code",
   "execution_count": null,
   "id": "9516ad8a",
   "metadata": {},
   "outputs": [],
   "source": []
  }
 ],
 "metadata": {
  "kernelspec": {
   "display_name": "Python 3 (ipykernel)",
   "language": "python",
   "name": "python3"
  },
  "language_info": {
   "codemirror_mode": {
    "name": "ipython",
    "version": 3
   },
   "file_extension": ".py",
   "mimetype": "text/x-python",
   "name": "python",
   "nbconvert_exporter": "python",
   "pygments_lexer": "ipython3",
   "version": "3.9.13"
  }
 },
 "nbformat": 4,
 "nbformat_minor": 5
}
